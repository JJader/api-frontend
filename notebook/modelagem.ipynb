{
  "cells": [
    {
      "cell_type": "markdown",
      "metadata": {
        "colab_type": "text",
        "id": "view-in-github"
      },
      "source": [
        "<a href=\"https://colab.research.google.com/github/JJader/api-frontend/blob/main/notebook/modelagem.ipynb\" target=\"_parent\"><img src=\"https://colab.research.google.com/assets/colab-badge.svg\" alt=\"Open In Colab\"/></a>"
      ]
    },
    {
      "cell_type": "code",
      "execution_count": null,
      "metadata": {
        "colab": {
          "base_uri": "https://localhost:8080/"
        },
        "id": "OH_MmecTCH06",
        "outputId": "980c5056-760b-4ff8-b135-23a31329d947"
      },
      "outputs": [
        {
          "name": "stdout",
          "output_type": "stream",
          "text": [
            "Mounted at /content/drive\n"
          ]
        }
      ],
      "source": [
        "from google.colab import drive\n",
        "drive.mount('/content/drive')"
      ]
    },
    {
      "cell_type": "code",
      "execution_count": null,
      "metadata": {
        "id": "4B_jRIhs25dJ"
      },
      "outputs": [],
      "source": [
        "!pip install -U pandas==1.5.3 &> /dev/null\n",
        "!pip install -q findspark pyspark \"mlflow==2.15.1\" &> /dev/null"
      ]
    },
    {
      "cell_type": "code",
      "execution_count": null,
      "metadata": {
        "id": "qsB1vAss2VVy"
      },
      "outputs": [],
      "source": [
        "import os\n",
        "import findspark"
      ]
    },
    {
      "cell_type": "code",
      "execution_count": null,
      "metadata": {
        "id": "qCD-FxoOWM3G"
      },
      "outputs": [],
      "source": [
        "\n",
        "# instalar as dependências do spark\n",
        "!apt-get install openjdk-8-jdk-headless -qq > /dev/null\n",
        "\n",
        "# !wget  https://archive.apache.org/dist/spark/spark-3.1.2/spark-3.1.2-bin-hadoop2.7.tgz\n",
        "!tar xf /content/drive/MyDrive/Colab\\ Notebooks/spark-3.1.2-bin-hadoop2.7.tgz\n",
        "\n",
        "os.environ[\"JAVA_HOME\"] = \"/usr/lib/jvm/java-8-openjdk-amd64\"\n",
        "os.environ[\"SPARK_HOME\"] = \"/content/spark-3.1.2-bin-hadoop2.7\"\n",
        "findspark.init()"
      ]
    },
    {
      "cell_type": "markdown",
      "metadata": {
        "id": "p37AU60VEdxl"
      },
      "source": [
        "# Sessão"
      ]
    },
    {
      "cell_type": "code",
      "execution_count": null,
      "metadata": {
        "colab": {
          "base_uri": "https://localhost:8080/",
          "height": 222
        },
        "id": "YYxwg7OrWttn",
        "outputId": "d18c76a3-aef6-4a5f-890c-9b0fff1a3805"
      },
      "outputs": [
        {
          "data": {
            "text/html": [
              "\n",
              "            <div>\n",
              "                <p><b>SparkSession - in-memory</b></p>\n",
              "                \n",
              "        <div>\n",
              "            <p><b>SparkContext</b></p>\n",
              "\n",
              "            <p><a href=\"http://8bcb8f26f60a:4040\">Spark UI</a></p>\n",
              "\n",
              "            <dl>\n",
              "              <dt>Version</dt>\n",
              "                <dd><code>v3.1.2</code></dd>\n",
              "              <dt>Master</dt>\n",
              "                <dd><code>local[*]</code></dd>\n",
              "              <dt>AppName</dt>\n",
              "                <dd><code>Introducao</code></dd>\n",
              "            </dl>\n",
              "        </div>\n",
              "        \n",
              "            </div>\n",
              "        "
            ],
            "text/plain": [
              "<pyspark.sql.session.SparkSession at 0x7b4a4c3a8be0>"
            ]
          },
          "execution_count": 28,
          "metadata": {},
          "output_type": "execute_result"
        }
      ],
      "source": [
        "# iniciar uma sessão local\n",
        "from pyspark.sql import SparkSession\n",
        "from pyspark.sql.functions import col, avg, max, count, date_format, stddev, expr, first, regexp_replace\n",
        "\n",
        "#sc = SparkSession.builder.master('local[*]').getOrCreate()\n",
        "spark = SparkSession.builder.appName(\"Introducao\").getOrCreate()\n",
        "spark"
      ]
    },
    {
      "cell_type": "code",
      "execution_count": null,
      "metadata": {
        "id": "HoGGg7leAs5K"
      },
      "outputs": [],
      "source": [
        "from pyspark.sql.types import StructType, StructField, IntegerType, StringType, FloatType, TimestampType, DateType\n",
        "from pyspark.ml.feature import StringIndexer\n",
        "\n",
        "\n",
        "df_spark = spark.read.csv(\"/content/drive/MyDrive/picpay/df_with_date_coords.csv\", header=True)\n",
        "df_spark = df_spark.na.drop()\n",
        "df_select_columns = df_spark.select([\n",
        "    \"dep_delay\",\n",
        "    \"origin\",\n",
        "    \"dest\",\n",
        "    \"distance\",\n",
        "    \"arr_delay\",\n",
        "    \"month\",\n",
        "])"
      ]
    },
    {
      "cell_type": "code",
      "execution_count": null,
      "metadata": {
        "id": "KJSUCNMCVnH8"
      },
      "outputs": [],
      "source": [
        "df = df_select_columns.toPandas()"
      ]
    },
    {
      "cell_type": "code",
      "execution_count": null,
      "metadata": {
        "colab": {
          "base_uri": "https://localhost:8080/"
        },
        "id": "NM3l56cbV7xq",
        "outputId": "8f721a0b-3446-499e-b437-19c62c886288"
      },
      "outputs": [
        {
          "name": "stdout",
          "output_type": "stream",
          "text": [
            "Mean Squared Error (MSE): 323.7615378265965\n",
            "Root Mean Squared Error (RMSE): 17.993374831492744\n",
            "Mean Absolute Error (MAE): 13.084226484251568\n",
            "R^2 Score: 0.8422864107566785\n"
          ]
        },
        {
          "data": {
            "text/plain": [
              "['/content/drive/MyDrive/picpay/modelo_linear_regression.pkl']"
            ]
          },
          "execution_count": 212,
          "metadata": {},
          "output_type": "execute_result"
        }
      ],
      "source": [
        "import pandas as pd\n",
        "from sklearn.model_selection import train_test_split\n",
        "from sklearn.preprocessing import StandardScaler, OneHotEncoder, OrdinalEncoder\n",
        "from sklearn.compose import ColumnTransformer\n",
        "from sklearn.pipeline import Pipeline\n",
        "from sklearn.linear_model import LinearRegression\n",
        "from sklearn.metrics import mean_squared_error, r2_score, mean_absolute_error\n",
        "import joblib\n",
        "import numpy as np\n",
        "\n",
        "# Separar as variáveis independentes (X) e a variável dependente (y)\n",
        "X = df[['dep_delay', 'origin', 'dest', 'distance', 'month']].reset_index(drop=True)\n",
        "y = df['arr_delay'].reset_index(drop=True)\n",
        "\n",
        "# Dividir os dados em conjuntos de treinamento e teste\n",
        "X_train, X_test, y_train, y_test = train_test_split(X, y, test_size=0.2, random_state=42)\n",
        "\n",
        "# Definir transformações para cada tipo de variável\n",
        "preprocessor = ColumnTransformer(\n",
        "    transformers=[\n",
        "        ('num', StandardScaler(), ['dep_delay', 'distance', 'month']),\n",
        "        ('cat', OrdinalEncoder(), ['origin', 'dest'])\n",
        "    ])\n",
        "\n",
        "# Criar o pipeline\n",
        "pipeline = Pipeline(steps=[\n",
        "    ('preprocessor', preprocessor),\n",
        "    ('model', LinearRegression())\n",
        "])\n",
        "\n",
        "# Treinar o modelo\n",
        "pipeline.fit(X_train, y_train)\n",
        "\n",
        "# Fazer previsões\n",
        "y_pred = pipeline.predict(X_test)\n",
        "\n",
        "# Avaliar o modelo\n",
        "mse = mean_squared_error(y_test, y_pred)\n",
        "r2 = r2_score(y_test, y_pred)\n",
        "\n",
        "mse = mean_squared_error(y_test, y_pred)\n",
        "rmse = np.sqrt(mse)\n",
        "mae = mean_absolute_error(y_test, y_pred)\n",
        "r2 = r2_score(y_test, y_pred)\n",
        "\n",
        "\n",
        "print(f'Mean Squared Error (MSE): {mse}')\n",
        "print(f'Root Mean Squared Error (RMSE): {rmse}')\n",
        "print(f'Mean Absolute Error (MAE): {mae}')\n",
        "print(f'R^2 Score: {r2}')\n",
        "\n",
        "# Salvar o modelo em um arquivo .pkl\n",
        "joblib.dump(pipeline, '/content/drive/MyDrive/picpay/modelo_linear_regression.pkl')\n"
      ]
    },
    {
      "cell_type": "code",
      "execution_count": null,
      "metadata": {
        "colab": {
          "base_uri": "https://localhost:8080/"
        },
        "id": "Ras0wMonXt3Z",
        "outputId": "152fedd4-dd11-4552-92b6-97a1ed6954ec"
      },
      "outputs": [
        {
          "data": {
            "text/plain": [
              "array([6.0394353])"
            ]
          },
          "execution_count": 208,
          "metadata": {},
          "output_type": "execute_result"
        }
      ],
      "source": [
        "data = {\n",
        "    'dep_delay': [15.0],\n",
        "    'origin': ['JFK'],\n",
        "    'dest': ['LAX'],\n",
        "    'distance': [2475.0],\n",
        "    'month': [8]\n",
        "}\n",
        "\n",
        "# Criar um DataFrame a partir dos dados\n",
        "input_df = pd.DataFrame(data)\n",
        "pipeline.predict(input_df)"
      ]
    },
    {
      "cell_type": "code",
      "execution_count": null,
      "metadata": {
        "id": "0o1ED_STxAII"
      },
      "outputs": [],
      "source": []
    }
  ],
  "metadata": {
    "colab": {
      "authorship_tag": "ABX9TyNnnuUiosLFlpWDm0SWnB7R",
      "include_colab_link": true,
      "provenance": []
    },
    "kernelspec": {
      "display_name": "Python 3",
      "name": "python3"
    },
    "language_info": {
      "name": "python"
    }
  },
  "nbformat": 4,
  "nbformat_minor": 0
}
