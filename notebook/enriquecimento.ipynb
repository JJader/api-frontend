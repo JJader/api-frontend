{
  "nbformat": 4,
  "nbformat_minor": 0,
  "metadata": {
    "colab": {
      "provenance": [],
      "collapsed_sections": [
        "9xIBw0Nw481t"
      ],
      "authorship_tag": "ABX9TyOPF2bsszT9JjgYIBQwaoQf",
      "include_colab_link": true
    },
    "kernelspec": {
      "name": "python3",
      "display_name": "Python 3"
    },
    "language_info": {
      "name": "python"
    }
  },
  "cells": [
    {
      "cell_type": "markdown",
      "metadata": {
        "id": "view-in-github",
        "colab_type": "text"
      },
      "source": [
        "<a href=\"https://colab.research.google.com/github/JJader/api-frontend/blob/feat%2Fcreate-celery-routes/notebook/enriquecimento.ipynb\" target=\"_parent\"><img src=\"https://colab.research.google.com/assets/colab-badge.svg\" alt=\"Open In Colab\"/></a>"
      ]
    },
    {
      "cell_type": "markdown",
      "source": [
        "# Configurando o ambiente"
      ],
      "metadata": {
        "id": "KRKXegYlEZQE"
      }
    },
    {
      "cell_type": "code",
      "source": [
        "from google.colab import drive\n",
        "drive.mount('/content/drive')"
      ],
      "metadata": {
        "colab": {
          "base_uri": "https://localhost:8080/"
        },
        "id": "OH_MmecTCH06",
        "outputId": "607aa445-e6d3-475a-fead-45a676a6ca71"
      },
      "execution_count": 1,
      "outputs": [
        {
          "output_type": "stream",
          "name": "stdout",
          "text": [
            "Mounted at /content/drive\n"
          ]
        }
      ]
    },
    {
      "cell_type": "code",
      "source": [
        "!pip install -U pandas==1.5.3 &> /dev/null\n",
        "!pip install -q findspark pyspark \"mlflow==2.15.1\" &> /dev/null"
      ],
      "metadata": {
        "id": "4B_jRIhs25dJ"
      },
      "execution_count": 2,
      "outputs": []
    },
    {
      "cell_type": "code",
      "source": [
        "import os\n",
        "import findspark"
      ],
      "metadata": {
        "id": "qsB1vAss2VVy"
      },
      "execution_count": 3,
      "outputs": []
    },
    {
      "cell_type": "code",
      "execution_count": 4,
      "metadata": {
        "id": "qCD-FxoOWM3G"
      },
      "outputs": [],
      "source": [
        "# instalar as dependências do spark\n",
        "!apt-get install openjdk-8-jdk-headless -qq > /dev/null\n",
        "\n",
        "# !wget  https://archive.apache.org/dist/spark/spark-3.1.2/spark-3.1.2-bin-hadoop2.7.tgz\n",
        "!tar xf /content/drive/MyDrive/Colab\\ Notebooks/spark-3.1.2-bin-hadoop2.7.tgz\n",
        "\n",
        "os.environ[\"JAVA_HOME\"] = \"/usr/lib/jvm/java-8-openjdk-amd64\"\n",
        "os.environ[\"SPARK_HOME\"] = \"/content/spark-3.1.2-bin-hadoop2.7\"\n",
        "findspark.init()"
      ]
    },
    {
      "cell_type": "code",
      "source": [
        "!wget https://github.com/PicPay/case-machine-learning-engineer-pleno/raw/main/notebook/airports-database.zip\n",
        "!unzip airports-database.zip -d airports-database"
      ],
      "metadata": {
        "colab": {
          "base_uri": "https://localhost:8080/"
        },
        "id": "j7aibDUA3X9Z",
        "outputId": "c38b4bec-6930-48e4-a1cc-7b2f0c68e2c6"
      },
      "execution_count": 5,
      "outputs": [
        {
          "output_type": "stream",
          "name": "stdout",
          "text": [
            "--2024-08-26 20:24:47--  https://github.com/PicPay/case-machine-learning-engineer-pleno/raw/main/notebook/airports-database.zip\n",
            "Resolving github.com (github.com)... 140.82.113.3\n",
            "Connecting to github.com (github.com)|140.82.113.3|:443... connected.\n",
            "HTTP request sent, awaiting response... 302 Found\n",
            "Location: https://raw.githubusercontent.com/PicPay/case-machine-learning-engineer-pleno/main/notebook/airports-database.zip [following]\n",
            "--2024-08-26 20:24:48--  https://raw.githubusercontent.com/PicPay/case-machine-learning-engineer-pleno/main/notebook/airports-database.zip\n",
            "Resolving raw.githubusercontent.com (raw.githubusercontent.com)... 185.199.108.133, 185.199.109.133, 185.199.110.133, ...\n",
            "Connecting to raw.githubusercontent.com (raw.githubusercontent.com)|185.199.108.133|:443... connected.\n",
            "HTTP request sent, awaiting response... 200 OK\n",
            "Length: 10463368 (10.0M) [application/zip]\n",
            "Saving to: ‘airports-database.zip’\n",
            "\n",
            "airports-database.z 100%[===================>]   9.98M  64.4MB/s    in 0.2s    \n",
            "\n",
            "2024-08-26 20:24:48 (64.4 MB/s) - ‘airports-database.zip’ saved [10463368/10463368]\n",
            "\n",
            "Archive:  airports-database.zip\n",
            "  inflating: airports-database/airports-database.csv  \n",
            "  inflating: airports-database/__MACOSX/._airports-database.csv  \n"
          ]
        }
      ]
    },
    {
      "cell_type": "markdown",
      "source": [
        "# Sessão"
      ],
      "metadata": {
        "id": "p37AU60VEdxl"
      }
    },
    {
      "cell_type": "code",
      "source": [
        "\n",
        "# iniciar uma sessão local\n",
        "from pyspark.sql import SparkSession\n",
        "from pyspark.sql.functions import col, avg, max, count, date_format, stddev, expr, first, to_date, udf, explode, lit, date_add\n",
        "from pyspark.sql.types import ArrayType, StructType, StructField, StringType, IntegerType\n",
        "import requests\n",
        "\n",
        "#sc = SparkSession.builder.master('local[*]').getOrCreate()\n",
        "spark = SparkSession.builder.appName(\"Introducao\").getOrCreate()\n",
        "spark"
      ],
      "metadata": {
        "id": "YYxwg7OrWttn",
        "colab": {
          "base_uri": "https://localhost:8080/",
          "height": 222
        },
        "outputId": "2529accb-aac4-4f9f-95e3-625de40daa7f"
      },
      "execution_count": 6,
      "outputs": [
        {
          "output_type": "execute_result",
          "data": {
            "text/plain": [
              "<pyspark.sql.session.SparkSession at 0x7f05482fb310>"
            ],
            "text/html": [
              "\n",
              "            <div>\n",
              "                <p><b>SparkSession - in-memory</b></p>\n",
              "                \n",
              "        <div>\n",
              "            <p><b>SparkContext</b></p>\n",
              "\n",
              "            <p><a href=\"http://f1943e1401a0:4040\">Spark UI</a></p>\n",
              "\n",
              "            <dl>\n",
              "              <dt>Version</dt>\n",
              "                <dd><code>v3.1.2</code></dd>\n",
              "              <dt>Master</dt>\n",
              "                <dd><code>local[*]</code></dd>\n",
              "              <dt>AppName</dt>\n",
              "                <dd><code>Introducao</code></dd>\n",
              "            </dl>\n",
              "        </div>\n",
              "        \n",
              "            </div>\n",
              "        "
            ]
          },
          "metadata": {},
          "execution_count": 6
        }
      ]
    },
    {
      "cell_type": "code",
      "source": [
        "df = spark.read.csv(\"/content/airports-database/airports-database.csv\", header=True)\n",
        "df = df.withColumn(\"date\", to_date(col(\"time_hour\"), \"yyyy-MM-dd HH:mm:ss\"))\n",
        "df = df.withColumn(\"day_of_week_name\", date_format(col(\"date\"), \"EEEE\"))"
      ],
      "metadata": {
        "id": "31ztuw9-33Fu"
      },
      "execution_count": 7,
      "outputs": []
    },
    {
      "cell_type": "markdown",
      "source": [
        "## Enriquecimento"
      ],
      "metadata": {
        "id": "1P7CbULz43Tr"
      }
    },
    {
      "cell_type": "markdown",
      "source": [
        "### AirportDB API:"
      ],
      "metadata": {
        "id": "9xIBw0Nw481t"
      }
    },
    {
      "cell_type": "code",
      "source": [
        "schema = StructType([\n",
        "    StructField(\"latitude_deg\", StringType(), True),\n",
        "    StructField(\"longitude_deg\", StringType(), True),\n",
        "])\n",
        "\n",
        "@udf(returnType=schema)\n",
        "def fetch_data(airport_code: str):\n",
        "    airportdb_key = \"ae7555efbe721faff667b69c9031a059619294bbdec5489a16c65b5196dff4d4dfd7e1f58bb76e07a22128297ac96e1d\" # em um sistema produtivo colocar como variável de ambiente ou secrets\n",
        "    url = f\"https://airportdb.io/api/v1/airport/K{airport_code}?apiToken={airportdb_key}\"\n",
        "\n",
        "    response = requests.get(url)\n",
        "    result_json = response.json()\n",
        "    latitude_deg = result_json.get(\"latitude_deg\")\n",
        "    longitude_deg = result_json.get(\"longitude_deg\")\n",
        "    return latitude_deg,longitude_deg"
      ],
      "metadata": {
        "id": "NYPuohBNikHm"
      },
      "execution_count": null,
      "outputs": []
    },
    {
      "cell_type": "code",
      "source": [
        "origin_df = df.select(\"origin\").withColumnRenamed(\"origin\", \"airport\")\n",
        "dest_df = df.select(\"dest\").withColumnRenamed(\"dest\", \"airport\")\n",
        "\n",
        "combined_df = origin_df.union(dest_df).distinct()\n",
        "combined_list = (\n",
        "     combined_df\n",
        "    .rdd.map(lambda row : row[0])\n",
        "    .collect()\n",
        ")"
      ],
      "metadata": {
        "id": "R2TOLbApBVUJ"
      },
      "execution_count": null,
      "outputs": []
    },
    {
      "cell_type": "code",
      "source": [
        "response_df = combined_df.withColumn(\"response\", fetch_data(\"airport\"))\n",
        "airport_location_df = response_df.select(*combined_df.columns,\"response.*\")"
      ],
      "metadata": {
        "id": "rkMq2sd7F1f4"
      },
      "execution_count": null,
      "outputs": []
    },
    {
      "cell_type": "code",
      "source": [
        "airport_location_df.write \\\n",
        "    .format(\"csv\") \\\n",
        "    .option(\"header\", \"true\") \\\n",
        "    .mode(\"overwrite\") \\\n",
        "    .save(\"/content/drive/MyDrive/picpay/airport.csv\")"
      ],
      "metadata": {
        "id": "KH08WbJIIQEH",
        "outputId": "23b291a1-0ae4-412e-ecab-ce6fed16e085",
        "colab": {
          "base_uri": "https://localhost:8080/"
        }
      },
      "execution_count": null,
      "outputs": [
        {
          "output_type": "stream",
          "name": "stdout",
          "text": [
            "+-------+------------------+------------------+\n",
            "|airport|      latitude_deg|     longitude_deg|\n",
            "+-------+------------------+------------------+\n",
            "|    LGA|         40.777199|        -73.872597|\n",
            "|    EWR|         40.692501|        -74.168701|\n",
            "|    JFK|         40.639801|          -73.7789|\n",
            "|    PSE|              null|              null|\n",
            "|    MSY| 29.99340057373047|-90.25800323486328|\n",
            "|    SNA|         33.675701|       -117.867996|\n",
            "|    BUR|         34.197703|       -118.356378|\n",
            "|    GRR|       42.88079834|      -85.52279663|\n",
            "|    MYR|     33.6796989441|    -78.9282989502|\n",
            "|    GSO|36.097801208496094|-79.93730163574219|\n",
            "|    PVD|         41.732601|        -71.420403|\n",
            "|    OAK|         37.721298|       -122.221001|\n",
            "|    MSN|           43.1399|        -89.337502|\n",
            "|    DCA|           38.8521|        -77.037697|\n",
            "|    LEX|  38.0364990234375|-84.60590362548828|\n",
            "|    ORF| 36.89459991455078|-76.20120239257812|\n",
            "|    CRW| 38.37310028076172|-81.59320068359375|\n",
            "|    SAV|       32.12760162|      -81.20210266|\n",
            "|    CMH|         39.998001|        -82.891899|\n",
            "|    CAK|40.916099548339844|-81.44219970703125|\n",
            "+-------+------------------+------------------+\n",
            "only showing top 20 rows\n",
            "\n"
          ]
        }
      ]
    },
    {
      "cell_type": "markdown",
      "source": [
        "### Weatherbit API:"
      ],
      "metadata": {
        "id": "4ZGRXpcd457O"
      }
    },
    {
      "cell_type": "code",
      "source": [
        "@udf(StringType())\n",
        "def fetch_weatherbit_api(latitude: str, longitude: str, start_date, end_date ):\n",
        "    url = \"https://api.weatherbit.io/v2.0/history/daily\"\n",
        "    weatherbit_key = \"1cfc8ea9e4084678b02062bbf2181923\" # em um sistema produtivo colocar como variável de ambiente ou secrets\n",
        "\n",
        "    params = {\n",
        "      'lat': latitude,\n",
        "      'lon': longitude,\n",
        "      'start_date': start_date.strftime('%Y-%m-%d'),\n",
        "      'end_date': end_date.strftime('%Y-%m-%d'),\n",
        "      'key': weatherbit_key,\n",
        "    }\n",
        "    headers = {\n",
        "      'Accept': 'application/json',\n",
        "    }\n",
        "    response = requests.get(url, params=params, headers=headers)\n",
        "    data = response.json()\n",
        "    return data[\"data\"][0].get(\"wind_spd\")"
      ],
      "metadata": {
        "id": "aKAAGto6hr82"
      },
      "execution_count": 8,
      "outputs": []
    },
    {
      "cell_type": "code",
      "source": [
        "airport_location_df = spark.read.csv(\"/content/drive/MyDrive/picpay/airport.csv\", header=True)"
      ],
      "metadata": {
        "id": "sVwnusxCIJ3J"
      },
      "execution_count": 9,
      "outputs": []
    },
    {
      "cell_type": "code",
      "source": [
        "df_with_origin_coords = df.join(\n",
        "    airport_location_df,\n",
        "    airport_location_df.airport == df.origin,\n",
        ").select(\n",
        "    *df.columns,\n",
        "    col('latitude_deg').alias('origin_latitude'),\n",
        "    col('longitude_deg').alias('origin_longitude')\n",
        ")\n"
      ],
      "metadata": {
        "id": "E9a1TRrkee6L"
      },
      "execution_count": 10,
      "outputs": []
    },
    {
      "cell_type": "code",
      "source": [
        "df_with_coords = df_with_origin_coords.join(\n",
        "    airport_location_df,\n",
        "    airport_location_df.airport == df_with_origin_coords.dest,\n",
        ").select(\n",
        "    *df_with_origin_coords.columns,\n",
        "    col('latitude_deg').alias('dest_latitude'),\n",
        "    col('longitude_deg').alias('dest_longitude')\n",
        ")\n",
        "\n",
        "df_with_coords.show()"
      ],
      "metadata": {
        "colab": {
          "base_uri": "https://localhost:8080/"
        },
        "id": "tGkJlh1Rgl97",
        "outputId": "e870e2e6-6bd3-4dc7-e6d4-55802ed37734"
      },
      "execution_count": 11,
      "outputs": [
        {
          "output_type": "stream",
          "name": "stdout",
          "text": [
            "+---+----+-----+---+--------+--------------+---------+--------+--------------+---------+-------+------+-------+------+----+--------+--------+----+------+-------------------+--------------------+----------+----------------+---------------+----------------+------------------+------------------+\n",
            "| id|year|month|day|dep_time|sched_dep_time|dep_delay|arr_time|sched_arr_time|arr_delay|carrier|flight|tailnum|origin|dest|air_time|distance|hour|minute|          time_hour|                name|      date|day_of_week_name|origin_latitude|origin_longitude|     dest_latitude|    dest_longitude|\n",
            "+---+----+-----+---+--------+--------------+---------+--------+--------------+---------+-------+------+-------+------+----+--------+--------+----+------+-------------------+--------------------+----------+----------------+---------------+----------------+------------------+------------------+\n",
            "|  0|2013|    1|  1|   517.0|           515|      2.0|   830.0|           819|     11.0|     UA|  1545| N14228|   EWR| IAH|   227.0|    1400|   5|    15|2013-01-01 05:00:00|United Air Lines ...|2013-01-01|         Tuesday|      40.692501|      -74.168701|29.984399795532227|-95.34140014648438|\n",
            "|  1|2013|    1|  1|   533.0|           529|      4.0|   850.0|           830|     20.0|     UA|  1714| N24211|   LGA| IAH|   227.0|    1416|   5|    29|2013-01-01 05:00:00|United Air Lines ...|2013-01-01|         Tuesday|      40.777199|      -73.872597|29.984399795532227|-95.34140014648438|\n",
            "|  2|2013|    1|  1|   542.0|           540|      2.0|   923.0|           850|     33.0|     AA|  1141| N619AA|   JFK| MIA|   160.0|    1089|   5|    40|2013-01-01 05:00:00|American Airlines...|2013-01-01|         Tuesday|      40.639801|        -73.7789| 25.79319953918457|-80.29060363769531|\n",
            "|  3|2013|    1|  1|   544.0|           545|     -1.0|  1004.0|          1022|    -18.0|     B6|   725| N804JB|   JFK| BQN|   183.0|    1576|   5|    45|2013-01-01 05:00:00|     JetBlue Airways|2013-01-01|         Tuesday|      40.639801|        -73.7789|              null|              null|\n",
            "|  4|2013|    1|  1|   554.0|           600|     -6.0|   812.0|           837|    -25.0|     DL|   461| N668DN|   LGA| ATL|   116.0|     762|   6|     0|2013-01-01 06:00:00|Delta Air Lines Inc.|2013-01-01|         Tuesday|      40.777199|      -73.872597|           33.6367|        -84.428101|\n",
            "|  5|2013|    1|  1|   554.0|           558|     -4.0|   740.0|           728|     12.0|     UA|  1696| N39463|   EWR| ORD|   150.0|     719|   5|    58|2013-01-01 05:00:00|United Air Lines ...|2013-01-01|         Tuesday|      40.692501|      -74.168701|           41.9786|          -87.9048|\n",
            "|  6|2013|    1|  1|   555.0|           600|     -5.0|   913.0|           854|     19.0|     B6|   507| N516JB|   EWR| FLL|   158.0|    1065|   6|     0|2013-01-01 06:00:00|     JetBlue Airways|2013-01-01|         Tuesday|      40.692501|      -74.168701|         26.072599|        -80.152702|\n",
            "|  7|2013|    1|  1|   557.0|           600|     -3.0|   709.0|           723|    -14.0|     EV|  5708| N829AS|   LGA| IAD|    53.0|     229|   6|     0|2013-01-01 06:00:00|ExpressJet Airlin...|2013-01-01|         Tuesday|      40.777199|      -73.872597|           38.9445|        -77.455803|\n",
            "|  8|2013|    1|  1|   557.0|           600|     -3.0|   838.0|           846|     -8.0|     B6|    79| N593JB|   JFK| MCO|   140.0|     944|   6|     0|2013-01-01 06:00:00|     JetBlue Airways|2013-01-01|         Tuesday|      40.639801|        -73.7789|28.429399490356445|-81.30899810791016|\n",
            "|  9|2013|    1|  1|   558.0|           600|     -2.0|   753.0|           745|      8.0|     AA|   301| N3ALAA|   LGA| ORD|   138.0|     733|   6|     0|2013-01-01 06:00:00|American Airlines...|2013-01-01|         Tuesday|      40.777199|      -73.872597|           41.9786|          -87.9048|\n",
            "| 10|2013|    1|  1|   558.0|           600|     -2.0|   849.0|           851|     -2.0|     B6|    49| N793JB|   JFK| PBI|   149.0|    1028|   6|     0|2013-01-01 06:00:00|     JetBlue Airways|2013-01-01|         Tuesday|      40.639801|        -73.7789| 26.68320083618164|-80.09559631347656|\n",
            "| 11|2013|    1|  1|   558.0|           600|     -2.0|   853.0|           856|     -3.0|     B6|    71| N657JB|   JFK| TPA|   158.0|    1005|   6|     0|2013-01-01 06:00:00|     JetBlue Airways|2013-01-01|         Tuesday|      40.639801|        -73.7789|27.975500106811523|     -82.533203125|\n",
            "| 12|2013|    1|  1|   558.0|           600|     -2.0|   924.0|           917|      7.0|     UA|   194| N29129|   JFK| LAX|   345.0|    2475|   6|     0|2013-01-01 06:00:00|United Air Lines ...|2013-01-01|         Tuesday|      40.639801|        -73.7789|         33.942501|       -118.407997|\n",
            "| 13|2013|    1|  1|   558.0|           600|     -2.0|   923.0|           937|    -14.0|     UA|  1124| N53441|   EWR| SFO|   361.0|    2565|   6|     0|2013-01-01 06:00:00|United Air Lines ...|2013-01-01|         Tuesday|      40.692501|      -74.168701| 37.61899948120117|          -122.375|\n",
            "| 14|2013|    1|  1|   559.0|           600|     -1.0|   941.0|           910|     31.0|     AA|   707| N3DUAA|   LGA| DFW|   257.0|    1389|   6|     0|2013-01-01 06:00:00|American Airlines...|2013-01-01|         Tuesday|      40.777199|      -73.872597|         32.896801|        -97.038002|\n",
            "| 15|2013|    1|  1|   559.0|           559|      0.0|   702.0|           706|     -4.0|     B6|  1806| N708JB|   JFK| BOS|    44.0|     187|   5|    59|2013-01-01 05:00:00|     JetBlue Airways|2013-01-01|         Tuesday|      40.639801|        -73.7789|           42.3643|        -71.005203|\n",
            "| 16|2013|    1|  1|   559.0|           600|     -1.0|   854.0|           902|     -8.0|     UA|  1187| N76515|   EWR| LAS|   337.0|    2227|   6|     0|2013-01-01 06:00:00|United Air Lines ...|2013-01-01|         Tuesday|      40.692501|      -74.168701|       36.08010101|      -115.1520004|\n",
            "| 17|2013|    1|  1|   600.0|           600|      0.0|   851.0|           858|     -7.0|     B6|   371| N595JB|   LGA| FLL|   152.0|    1076|   6|     0|2013-01-01 06:00:00|     JetBlue Airways|2013-01-01|         Tuesday|      40.777199|      -73.872597|         26.072599|        -80.152702|\n",
            "| 18|2013|    1|  1|   600.0|           600|      0.0|   837.0|           825|     12.0|     MQ|  4650| N542MQ|   LGA| ATL|   134.0|     762|   6|     0|2013-01-01 06:00:00|           Envoy Air|2013-01-01|         Tuesday|      40.777199|      -73.872597|           33.6367|        -84.428101|\n",
            "| 19|2013|    1|  1|   601.0|           600|      1.0|   844.0|           850|     -6.0|     B6|   343| N644JB|   EWR| PBI|   147.0|    1023|   6|     0|2013-01-01 06:00:00|     JetBlue Airways|2013-01-01|         Tuesday|      40.692501|      -74.168701| 26.68320083618164|-80.09559631347656|\n",
            "+---+----+-----+---+--------+--------------+---------+--------+--------------+---------+-------+------+-------+------+----+--------+--------+----+------+-------------------+--------------------+----------+----------------+---------------+----------------+------------------+------------------+\n",
            "only showing top 20 rows\n",
            "\n"
          ]
        }
      ]
    },
    {
      "cell_type": "code",
      "source": [
        "df_with_coords_date = df_with_coords.withColumn(\"date\", to_date(col(\"time_hour\"), \"yyyy-MM-dd HH:mm:ss\"))\n",
        "df_with_coords_date = df_with_coords_date.withColumn(\"next_day\", date_add(\"date\", 1))\n",
        "\n",
        "limit_df = df_with_coords_date.sort(col(\"arr_delay\").desc()).limit(5)"
      ],
      "metadata": {
        "id": "sNH1k1v1hKZp"
      },
      "execution_count": 35,
      "outputs": []
    },
    {
      "cell_type": "code",
      "source": [
        "response_origin_df = limit_df.withColumn(\n",
        "    \"origin_wind_spd\",\n",
        "    fetch_weatherbit_api(\"origin_latitude\", \"origin_longitude\", \"date\", \"next_day\" )\n",
        ")"
      ],
      "metadata": {
        "id": "wbcirinGj582"
      },
      "execution_count": 36,
      "outputs": []
    },
    {
      "cell_type": "code",
      "source": [
        "response_df = response_origin_df.withColumn(\n",
        "    \"dest_wind_spd\",\n",
        "    fetch_weatherbit_api(\"dest_latitude\", \"dest_longitude\", \"date\", \"next_day\" )\n",
        ")"
      ],
      "metadata": {
        "id": "6L1jH39BUexh"
      },
      "execution_count": 38,
      "outputs": []
    },
    {
      "cell_type": "code",
      "source": [
        "response_df.show()"
      ],
      "metadata": {
        "id": "c4Q_ClqbVxBM",
        "outputId": "ab7763ea-1b34-4a62-af80-405545537829",
        "colab": {
          "base_uri": "https://localhost:8080/"
        }
      },
      "execution_count": 39,
      "outputs": [
        {
          "output_type": "stream",
          "name": "stdout",
          "text": [
            "+-----+----+-----+---+--------+--------------+---------+--------+--------------+---------+-------+------+-------+------+----+--------+--------+----+------+-------------------+--------------------+----------+----------------+---------------+----------------+-------------+--------------+----------+---------------+-------------+\n",
            "|   id|year|month|day|dep_time|sched_dep_time|dep_delay|arr_time|sched_arr_time|arr_delay|carrier|flight|tailnum|origin|dest|air_time|distance|hour|minute|          time_hour|                name|      date|day_of_week_name|origin_latitude|origin_longitude|dest_latitude|dest_longitude|  next_day|origin_wind_spd|dest_wind_spd|\n",
            "+-----+----+-----+---+--------+--------------+---------+--------+--------------+---------+-------+------+-------+------+----+--------+--------+----+------+-------------------+--------------------+----------+----------------+---------------+----------------+-------------+--------------+----------+---------------+-------------+\n",
            "| 6651|2013|    1|  8|  1550.0|          1420|     90.0|  1759.0|          1620|     99.0|     MQ|  4588| N507MQ|   LGA| MSP|   157.0|    1020|  14|    20|2013-01-08 14:00:00|           Envoy Air|2013-01-08|         Tuesday|      40.777199|      -73.872597|       44.882|    -93.221802|2013-01-09|            3.8|          3.5|\n",
            "|13925|2013|    1| 16|  2152.0|          2015|     97.0|  2349.0|          2210|     99.0|     MQ|  4555| N846MQ|   LGA| CMH|    94.0|     479|  20|    15|2013-01-16 20:00:00|           Envoy Air|2013-01-16|       Wednesday|      40.777199|      -73.872597|    39.998001|    -82.891899|2013-01-17|            3.3|          3.2|\n",
            "|11082|2013|    1| 13|  1827.0|          1708|     79.0|  2202.0|          2023|     99.0|     B6|    15| N203JB|   JFK| FLL|   146.0|    1069|  17|     8|2013-01-13 17:00:00|     JetBlue Airways|2013-01-13|          Sunday|      40.639801|        -73.7789|    26.072599|    -80.152702|2013-01-14|            2.9|            5|\n",
            "| 1559|2013|    1|  2|  1804.0|          1639|     85.0|  2050.0|          1911|     99.0|     EV|  4705| N14558|   EWR| ATL|   137.0|     746|  16|    39|2013-01-02 16:00:00|ExpressJet Airlin...|2013-01-02|       Wednesday|      40.692501|      -74.168701|      33.6367|    -84.428101|2013-01-03|            4.9|          4.5|\n",
            "|11176|2013|    1| 13|  2022.0|          1905|     77.0|  2202.0|          2023|     99.0|     EV|  5714| N827AS|   JFK| IAD|    44.0|     228|  19|     5|2013-01-13 19:00:00|ExpressJet Airlin...|2013-01-13|          Sunday|      40.639801|        -73.7789|      38.9445|    -77.455803|2013-01-14|            2.9|          2.1|\n",
            "+-----+----+-----+---+--------+--------------+---------+--------+--------------+---------+-------+------+-------+------+----+--------+--------+----+------+-------------------+--------------------+----------+----------------+---------------+----------------+-------------+--------------+----------+---------------+-------------+\n",
            "\n"
          ]
        }
      ]
    },
    {
      "cell_type": "code",
      "source": [
        "df_with_coords_date.write \\\n",
        "    .format(\"csv\") \\\n",
        "    .option(\"header\", \"true\") \\\n",
        "    .mode(\"overwrite\") \\\n",
        "    .save(\"/content/drive/MyDrive/picpay/df_with_date_coords.csv\")"
      ],
      "metadata": {
        "id": "qKxAhCpF5NK4"
      },
      "execution_count": null,
      "outputs": []
    },
    {
      "cell_type": "code",
      "source": [],
      "metadata": {
        "id": "9m0dmzLhUtL5"
      },
      "execution_count": null,
      "outputs": []
    }
  ]
}