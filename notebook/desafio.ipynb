{
  "cells": [
    {
      "cell_type": "markdown",
      "metadata": {
        "colab_type": "text",
        "id": "view-in-github"
      },
      "source": [
        "<a href=\"https://colab.research.google.com/github/JJader/api-frontend/blob/main/notebook/desafio.ipynb\" target=\"_parent\"><img src=\"https://colab.research.google.com/assets/colab-badge.svg\" alt=\"Open In Colab\"/></a>"
      ]
    },
    {
      "cell_type": "markdown",
      "metadata": {
        "id": "KRKXegYlEZQE"
      },
      "source": [
        "# Configurando o ambiente"
      ]
    },
    {
      "cell_type": "code",
      "execution_count": 2,
      "metadata": {
        "colab": {
          "base_uri": "https://localhost:8080/"
        },
        "id": "OH_MmecTCH06",
        "outputId": "ab471e96-e103-4684-a1ec-662cf96af944"
      },
      "outputs": [
        {
          "name": "stdout",
          "output_type": "stream",
          "text": [
            "Mounted at /content/drive\n"
          ]
        }
      ],
      "source": [
        "from google.colab import drive\n",
        "drive.mount('/content/drive')"
      ]
    },
    {
      "cell_type": "code",
      "execution_count": 3,
      "metadata": {
        "id": "4B_jRIhs25dJ"
      },
      "outputs": [],
      "source": [
        "!pip install -U pandas==1.5.3 &> /dev/null\n",
        "!pip install -q findspark pyspark \"mlflow==2.15.1\" &> /dev/null"
      ]
    },
    {
      "cell_type": "code",
      "execution_count": 4,
      "metadata": {
        "id": "qsB1vAss2VVy"
      },
      "outputs": [],
      "source": [
        "import os\n",
        "import findspark"
      ]
    },
    {
      "cell_type": "code",
      "execution_count": 5,
      "metadata": {
        "id": "qCD-FxoOWM3G"
      },
      "outputs": [],
      "source": [
        "# instalar as dependências do spark\n",
        "!apt-get install openjdk-8-jdk-headless -qq > /dev/null\n",
        "\n",
        "# !wget  https://archive.apache.org/dist/spark/spark-3.1.2/spark-3.1.2-bin-hadoop2.7.tgz\n",
        "!tar xf /content/drive/MyDrive/Colab\\ Notebooks/spark-3.1.2-bin-hadoop2.7.tgz\n",
        "\n",
        "os.environ[\"JAVA_HOME\"] = \"/usr/lib/jvm/java-8-openjdk-amd64\"\n",
        "os.environ[\"SPARK_HOME\"] = \"/content/spark-3.1.2-bin-hadoop2.7\"\n",
        "findspark.init()"
      ]
    },
    {
      "cell_type": "code",
      "execution_count": 6,
      "metadata": {
        "colab": {
          "base_uri": "https://localhost:8080/"
        },
        "id": "j7aibDUA3X9Z",
        "outputId": "820c7263-85f8-4993-fef0-a64b28728995"
      },
      "outputs": [
        {
          "name": "stdout",
          "output_type": "stream",
          "text": [
            "--2024-08-25 23:09:40--  https://github.com/PicPay/case-machine-learning-engineer-pleno/raw/main/notebook/airports-database.zip\n",
            "Resolving github.com (github.com)... 140.82.114.3\n",
            "Connecting to github.com (github.com)|140.82.114.3|:443... connected.\n",
            "HTTP request sent, awaiting response... 302 Found\n",
            "Location: https://raw.githubusercontent.com/PicPay/case-machine-learning-engineer-pleno/main/notebook/airports-database.zip [following]\n",
            "--2024-08-25 23:09:40--  https://raw.githubusercontent.com/PicPay/case-machine-learning-engineer-pleno/main/notebook/airports-database.zip\n",
            "Resolving raw.githubusercontent.com (raw.githubusercontent.com)... 185.199.108.133, 185.199.109.133, 185.199.110.133, ...\n",
            "Connecting to raw.githubusercontent.com (raw.githubusercontent.com)|185.199.108.133|:443... connected.\n",
            "HTTP request sent, awaiting response... 200 OK\n",
            "Length: 10463368 (10.0M) [application/zip]\n",
            "Saving to: ‘airports-database.zip’\n",
            "\n",
            "airports-database.z 100%[===================>]   9.98M  --.-KB/s    in 0.1s    \n",
            "\n",
            "2024-08-25 23:09:41 (86.3 MB/s) - ‘airports-database.zip’ saved [10463368/10463368]\n",
            "\n",
            "Archive:  airports-database.zip\n",
            "  inflating: airports-database/airports-database.csv  \n",
            "  inflating: airports-database/__MACOSX/._airports-database.csv  \n"
          ]
        }
      ],
      "source": [
        "!wget https://github.com/PicPay/case-machine-learning-engineer-pleno/raw/main/notebook/airports-database.zip\n",
        "!unzip airports-database.zip -d airports-database"
      ]
    },
    {
      "cell_type": "markdown",
      "metadata": {
        "id": "p37AU60VEdxl"
      },
      "source": [
        "# Sessão"
      ]
    },
    {
      "cell_type": "code",
      "execution_count": 7,
      "metadata": {
        "colab": {
          "base_uri": "https://localhost:8080/",
          "height": 222
        },
        "id": "YYxwg7OrWttn",
        "outputId": "d7956c3f-106b-4fdf-d7d5-b9c8f7541fc4"
      },
      "outputs": [
        {
          "data": {
            "text/html": [
              "\n",
              "            <div>\n",
              "                <p><b>SparkSession - in-memory</b></p>\n",
              "                \n",
              "        <div>\n",
              "            <p><b>SparkContext</b></p>\n",
              "\n",
              "            <p><a href=\"http://6441c35df8a2:4040\">Spark UI</a></p>\n",
              "\n",
              "            <dl>\n",
              "              <dt>Version</dt>\n",
              "                <dd><code>v3.1.2</code></dd>\n",
              "              <dt>Master</dt>\n",
              "                <dd><code>local[*]</code></dd>\n",
              "              <dt>AppName</dt>\n",
              "                <dd><code>Introducao</code></dd>\n",
              "            </dl>\n",
              "        </div>\n",
              "        \n",
              "            </div>\n",
              "        "
            ],
            "text/plain": [
              "<pyspark.sql.session.SparkSession at 0x7cf9269dfee0>"
            ]
          },
          "execution_count": 7,
          "metadata": {},
          "output_type": "execute_result"
        }
      ],
      "source": [
        "# iniciar uma sessão local\n",
        "from pyspark.sql import SparkSession\n",
        "from pyspark.sql.functions import col, avg, max, count, date_format, stddev, expr, first, to_date\n",
        "\n",
        "#sc = SparkSession.builder.master('local[*]').getOrCreate()\n",
        "spark = SparkSession.builder.appName(\"Introducao\").getOrCreate()\n",
        "spark"
      ]
    },
    {
      "cell_type": "code",
      "execution_count": 8,
      "metadata": {
        "id": "31ztuw9-33Fu"
      },
      "outputs": [],
      "source": [
        "df = spark.read.csv(\"/content/airports-database/airports-database.csv\", header=True)\n",
        "df = df.withColumn(\"date\", to_date(col(\"time_hour\"), \"yyyy-MM-dd HH:mm:ss\"))\n",
        "df = df.withColumn(\"day_of_week_name\", date_format(col(\"date\"), \"EEEE\"))"
      ]
    },
    {
      "cell_type": "markdown",
      "metadata": {
        "id": "h27oC9jjkgZb"
      },
      "source": [
        "## Perguntas"
      ]
    },
    {
      "cell_type": "markdown",
      "metadata": {
        "id": "Rb1lH9xYklV3"
      },
      "source": [
        "### 1. Qual é o número total de voos no conjunto de dados?"
      ]
    },
    {
      "cell_type": "code",
      "execution_count": 9,
      "metadata": {
        "colab": {
          "base_uri": "https://localhost:8080/"
        },
        "id": "NzVbwKmNm5Gv",
        "outputId": "facf6f25-1342-404a-cac6-98e2ef5445e6"
      },
      "outputs": [
        {
          "name": "stdout",
          "output_type": "stream",
          "text": [
            "Número de voos total é 336776\n"
          ]
        }
      ],
      "source": [
        "total_voos = df.count()\n",
        "print(f\"Número de voos total é {total_voos}\")"
      ]
    },
    {
      "cell_type": "markdown",
      "metadata": {
        "id": "Hp3NDkaanLcM"
      },
      "source": [
        "### 2. Quantos voos foram cancelados? (Considerando que voos cancelados têm dep_time e arr_time nulos)"
      ]
    },
    {
      "cell_type": "code",
      "execution_count": 10,
      "metadata": {
        "colab": {
          "base_uri": "https://localhost:8080/"
        },
        "id": "06bicYtKkpQg",
        "outputId": "7b8731c9-4081-49fb-8927-69481cd4cfa6"
      },
      "outputs": [
        {
          "name": "stdout",
          "output_type": "stream",
          "text": [
            "Número de voos cancelados 8255\n"
          ]
        }
      ],
      "source": [
        "num_empty_rows = df.filter(col(\"dep_time\").isNull() & col(\"arr_time\").isNull()).count()\n",
        "print(f\"Número de voos cancelados {num_empty_rows}\")"
      ]
    },
    {
      "cell_type": "markdown",
      "metadata": {
        "id": "rCSt2pDvoJQ0"
      },
      "source": [
        "### 3. Qual é o atraso médio na partida dos voos (dep_delay)?"
      ]
    },
    {
      "cell_type": "code",
      "execution_count": 11,
      "metadata": {
        "colab": {
          "base_uri": "https://localhost:8080/"
        },
        "id": "agl8No0anx_y",
        "outputId": "1cd6a016-7801-4678-e5bb-0c63977b3125"
      },
      "outputs": [
        {
          "name": "stdout",
          "output_type": "stream",
          "text": [
            "Media atraso médio 12.64\n"
          ]
        }
      ],
      "source": [
        "average = df.agg(avg(col(\"dep_delay\")).alias(\"average\")).collect()[0][\"average\"]\n",
        "print(f\"Media atraso médio {average:.2f}\")"
      ]
    },
    {
      "cell_type": "markdown",
      "metadata": {
        "id": "XFOjjsnMqun6"
      },
      "source": [
        "### 4. Quais são os 5 aeroportos com maior número de pousos?"
      ]
    },
    {
      "cell_type": "code",
      "execution_count": 12,
      "metadata": {
        "colab": {
          "base_uri": "https://localhost:8080/"
        },
        "id": "SobBqyHNqrmx",
        "outputId": "02b27b6e-d358-448b-95f4-2b0f860293b3"
      },
      "outputs": [
        {
          "name": "stdout",
          "output_type": "stream",
          "text": [
            "5 Aeroportos com maior numero de pouso\n",
            "+----+-----+\n",
            "|dest|count|\n",
            "+----+-----+\n",
            "| ORD|17283|\n",
            "| ATL|17215|\n",
            "| LAX|16174|\n",
            "| BOS|15508|\n",
            "| MCO|14082|\n",
            "+----+-----+\n",
            "\n"
          ]
        }
      ],
      "source": [
        "dest_count_df = df.groupBy(\"dest\").agg(count(\"*\").alias(\"count\"))\n",
        "result = dest_count_df.sort(col(\"count\").desc()).limit(5)\n",
        "\n",
        "print(f\"5 Aeroportos com maior numero de pouso\")\n",
        "result.show()"
      ]
    },
    {
      "cell_type": "markdown",
      "metadata": {
        "id": "yQwaq0Fxr0x7"
      },
      "source": [
        "### 5. Qual é a rota mais frequente (par origin-dest)?"
      ]
    },
    {
      "cell_type": "code",
      "execution_count": 13,
      "metadata": {
        "colab": {
          "base_uri": "https://localhost:8080/"
        },
        "id": "FfXrM4X2ryBx",
        "outputId": "90cbc5ab-cd35-4dc2-ebdf-1b6659bd5cdb"
      },
      "outputs": [
        {
          "name": "stdout",
          "output_type": "stream",
          "text": [
            "rota acom maior frequencia\n",
            "+------+----+-----+\n",
            "|origin|dest|count|\n",
            "+------+----+-----+\n",
            "|   JFK| LAX|11262|\n",
            "+------+----+-----+\n",
            "\n"
          ]
        }
      ],
      "source": [
        "dest_count_df = df.groupBy(\"origin\",\"dest\").agg(count(\"*\").alias(\"count\"))\n",
        "result = dest_count_df.sort(col(\"count\").desc()).limit(1)\n",
        "\n",
        "print(f\"rota acom maior frequencia\")\n",
        "result.show()"
      ]
    },
    {
      "cell_type": "markdown",
      "metadata": {
        "id": "mo3_nfJHzIP6"
      },
      "source": [
        "### 6. Quais são as 5 companhias aéreas com maior tempo médio de atraso na chegada?(Exiba também o tempo)"
      ]
    },
    {
      "cell_type": "code",
      "execution_count": 14,
      "metadata": {
        "colab": {
          "base_uri": "https://localhost:8080/"
        },
        "id": "9qZZca5V1zjf",
        "outputId": "05386fdd-fc78-478b-f049-3efc08d98687"
      },
      "outputs": [
        {
          "name": "stdout",
          "output_type": "stream",
          "text": [
            "+--------------------+-------+------------------+\n",
            "|                name|carrier|           average|\n",
            "+--------------------+-------+------------------+\n",
            "|Frontier Airlines...|     F9|21.920704845814978|\n",
            "|AirTran Airways C...|     FL|20.115905511811025|\n",
            "|ExpressJet Airlin...|     EV| 15.79643108710965|\n",
            "|  Mesa Airlines Inc.|     YV|15.556985294117647|\n",
            "|SkyWest Airlines ...|     OO|11.931034482758621|\n",
            "+--------------------+-------+------------------+\n",
            "\n"
          ]
        }
      ],
      "source": [
        "average = df.groupBy(\"name\", \"carrier\").agg(avg(col(\"arr_delay\")).alias(\"average\"))\n",
        "average.sort(col(\"average\").desc()).limit(5).show()"
      ]
    },
    {
      "cell_type": "markdown",
      "metadata": {
        "id": "plqsRV_v1cGB"
      },
      "source": [
        "### 7. Qual é o dia da semana com maior número de voos?"
      ]
    },
    {
      "cell_type": "code",
      "execution_count": 15,
      "metadata": {
        "id": "eNyH_GZApUkA"
      },
      "outputs": [],
      "source": [
        "result = df.groupBy(\"day_of_week_name\").agg(count(\"*\").alias(\"count\"))\n",
        "result = result.sort(col(\"count\").desc()).limit(1)"
      ]
    },
    {
      "cell_type": "code",
      "execution_count": 16,
      "metadata": {
        "colab": {
          "base_uri": "https://localhost:8080/"
        },
        "id": "DZDBRQUn23W-",
        "outputId": "1a8dea0c-7198-4a5d-a265-6897be0dc6c9"
      },
      "outputs": [
        {
          "name": "stdout",
          "output_type": "stream",
          "text": [
            "Dia da semana com maior numero de voos\n",
            "+----------------+-----+\n",
            "|day_of_week_name|count|\n",
            "+----------------+-----+\n",
            "|          Monday|50690|\n",
            "+----------------+-----+\n",
            "\n"
          ]
        }
      ],
      "source": [
        "print(f\"Dia da semana com maior numero de voos\")\n",
        "result.show()"
      ]
    },
    {
      "cell_type": "markdown",
      "metadata": {
        "id": "vVfKZQNN40tN"
      },
      "source": [
        "### 8. Qual o percentual mensal dos voos tiveram atraso na partida superior a 30 minutos?"
      ]
    },
    {
      "cell_type": "code",
      "execution_count": 17,
      "metadata": {
        "colab": {
          "base_uri": "https://localhost:8080/"
        },
        "id": "ZebcWMVJ40IO",
        "outputId": "cccd1951-4161-4faf-a40b-345616b1e1f3"
      },
      "outputs": [
        {
          "name": "stdout",
          "output_type": "stream",
          "text": [
            "Porcentagem de voos atrasados mais que 30m na partida 14.34\\%\n"
          ]
        }
      ],
      "source": [
        "voos_total = df.count()\n",
        "voos_total_atrasados_30 = df.filter(df.dep_delay > 30).count()\n",
        "porcentagem = voos_total_atrasados_30/voos_total*100\n",
        "\n",
        "print(f\"Porcentagem de voos atrasados mais que 30m na partida {porcentagem:.2f}\\%\")"
      ]
    },
    {
      "cell_type": "markdown",
      "metadata": {
        "id": "w_-yaWjC7Vl5"
      },
      "source": [
        "### 9. Qual a origem mais comum para voos que pousaram em Seattle (SEA)?"
      ]
    },
    {
      "cell_type": "code",
      "execution_count": 18,
      "metadata": {
        "id": "P9trX4a16gfi"
      },
      "outputs": [],
      "source": [
        "seattle_df = df.filter(df.dest == \"SEA\")\n",
        "result = seattle_df.groupBy(\"origin\", \"dest\").agg(count(\"*\").alias(\"count\"))\n",
        "\n",
        "result = result.sort(col(\"count\").desc()).limit(1)\n",
        "result_value = result.select(\"origin\").rdd.flatMap(list).collect()[0]"
      ]
    },
    {
      "cell_type": "code",
      "execution_count": 19,
      "metadata": {
        "colab": {
          "base_uri": "https://localhost:8080/"
        },
        "id": "AAg93ZQy8c77",
        "outputId": "417351e6-2fba-4d2d-dead-ef71123ae1cd"
      },
      "outputs": [
        {
          "name": "stdout",
          "output_type": "stream",
          "text": [
            "Origem que mais pousa em seattle é JFK\n"
          ]
        }
      ],
      "source": [
        "print(f\"Origem que mais pousa em seattle é {result_value}\")"
      ]
    },
    {
      "cell_type": "markdown",
      "metadata": {
        "id": "R5sAkuQb9bhE"
      },
      "source": [
        "###  10. Qual é a média de atraso na partida dos voos (dep_delay) para cada dia da semana?"
      ]
    },
    {
      "cell_type": "code",
      "execution_count": 20,
      "metadata": {
        "colab": {
          "base_uri": "https://localhost:8080/"
        },
        "id": "E9-mWknw8E9B",
        "outputId": "7b465475-0de3-4fd6-9766-8322f036b760"
      },
      "outputs": [
        {
          "name": "stdout",
          "output_type": "stream",
          "text": [
            "+----------------+------------------+\n",
            "|day_of_week_name|           average|\n",
            "+----------------+------------------+\n",
            "|       Wednesday|11.803512219083876|\n",
            "|         Tuesday|10.631682565455652|\n",
            "|          Friday| 14.69605749486653|\n",
            "|        Thursday|16.148919990957108|\n",
            "|        Saturday| 7.650502333676133|\n",
            "|          Monday|14.778936729330908|\n",
            "|          Sunday|11.589531801152422|\n",
            "+----------------+------------------+\n",
            "\n"
          ]
        }
      ],
      "source": [
        "result = df.groupBy(\"day_of_week_name\").agg(avg(col(\"dep_delay\")).alias(\"average\"))\n",
        "result.show()"
      ]
    },
    {
      "cell_type": "markdown",
      "metadata": {
        "id": "ywEKs4PV-YCz"
      },
      "source": [
        "###  11. Qual é a rota que teve o maior tempo de voo médio (air_time)?"
      ]
    },
    {
      "cell_type": "code",
      "execution_count": 21,
      "metadata": {
        "colab": {
          "base_uri": "https://localhost:8080/"
        },
        "id": "mtUhglPF-Xdp",
        "outputId": "b72e7708-95b5-481c-c685-d36a39d5e4be"
      },
      "outputs": [
        {
          "name": "stdout",
          "output_type": "stream",
          "text": [
            "+------+----+--------+\n",
            "|origin|dest|air_time|\n",
            "+------+----+--------+\n",
            "|   LGA| CLT|    99.0|\n",
            "+------+----+--------+\n",
            "\n"
          ]
        }
      ],
      "source": [
        "result = df.sort(col(\"air_time\").desc()).limit(1)\n",
        "result.select(\"origin\", \"dest\", \"air_time\").show()"
      ]
    },
    {
      "cell_type": "markdown",
      "metadata": {
        "id": "HzIg2B-eAN1H"
      },
      "source": [
        "### 12. Para cada aeroporto de origem, qual é o aeroporto de destino mais comum?"
      ]
    },
    {
      "cell_type": "code",
      "execution_count": 22,
      "metadata": {
        "id": "WjA7ojh5AYCu"
      },
      "outputs": [],
      "source": [
        "group_origin_dest_df = df.groupBy(\"origin\", \"dest\").agg(count(\"*\").alias(\"total_count\"))\n",
        "df_max_count = group_origin_dest_df.groupBy(\"origin\").agg(max(\"total_count\").alias(\"max_count\"))"
      ]
    },
    {
      "cell_type": "code",
      "execution_count": 23,
      "metadata": {
        "id": "hT09V6dXCVfY"
      },
      "outputs": [],
      "source": [
        "df_result = group_origin_dest_df.join(\n",
        "    df_max_count,\n",
        "    (group_origin_dest_df.origin == df_max_count.origin) &\n",
        "    (group_origin_dest_df.total_count == df_max_count.max_count)\n",
        ")"
      ]
    },
    {
      "cell_type": "code",
      "execution_count": 24,
      "metadata": {
        "colab": {
          "base_uri": "https://localhost:8080/"
        },
        "id": "JVEPSSxwDiFi",
        "outputId": "0b850724-c40d-4987-ff46-d24e53a5d99e"
      },
      "outputs": [
        {
          "name": "stdout",
          "output_type": "stream",
          "text": [
            "+------+----+-----------+------+---------+\n",
            "|origin|dest|total_count|origin|max_count|\n",
            "+------+----+-----------+------+---------+\n",
            "|   EWR| ORD|       6100|   EWR|     6100|\n",
            "|   JFK| LAX|      11262|   JFK|    11262|\n",
            "|   LGA| ATL|      10263|   LGA|    10263|\n",
            "+------+----+-----------+------+---------+\n",
            "\n"
          ]
        }
      ],
      "source": [
        "df_result.show()"
      ]
    },
    {
      "cell_type": "markdown",
      "metadata": {
        "id": "HDOOyV9iFY4e"
      },
      "source": [
        "###  13. Quais são as 3 rotas que tiveram a maior variação no tempo médio de voo (air_time) ?"
      ]
    },
    {
      "cell_type": "code",
      "execution_count": 25,
      "metadata": {
        "colab": {
          "base_uri": "https://localhost:8080/"
        },
        "id": "27Wq4tfODIAf",
        "outputId": "473a60b8-4c2e-43a0-f742-87412d54c549"
      },
      "outputs": [
        {
          "name": "stdout",
          "output_type": "stream",
          "text": [
            "+------+----+------------------+\n",
            "|origin|dest|               std|\n",
            "+------+----+------------------+\n",
            "|   LGA| MYR| 25.32455988429677|\n",
            "|   EWR| HNL| 21.26613546847427|\n",
            "|   JFK| HNL|20.688824842787056|\n",
            "+------+----+------------------+\n",
            "\n"
          ]
        }
      ],
      "source": [
        "result = df.groupBy(\"origin\", \"dest\").agg(stddev(col(\"air_time\")).alias(\"std\"))\n",
        "result = result.sort(col(\"std\").desc()).limit(3)\n",
        "result.show()"
      ]
    },
    {
      "cell_type": "markdown",
      "metadata": {
        "id": "5AKD9ovlGMWX"
      },
      "source": [
        "### 14. Qual é a média de atraso na chegada para voos que tiveram atraso na partida superior a 1 hora?"
      ]
    },
    {
      "cell_type": "code",
      "execution_count": 26,
      "metadata": {
        "colab": {
          "base_uri": "https://localhost:8080/"
        },
        "id": "Pe5-VMzUCKM0",
        "outputId": "c3a771a6-53a9-4671-ae2b-18697154fdfa"
      },
      "outputs": [
        {
          "name": "stdout",
          "output_type": "stream",
          "text": [
            "+------------------+\n",
            "|           average|\n",
            "+------------------+\n",
            "|119.04880549963919|\n",
            "+------------------+\n",
            "\n"
          ]
        }
      ],
      "source": [
        "voos_atrasados_df = df.filter(df.dep_delay > 60)\n",
        "result = voos_atrasados_df.agg(avg(col(\"arr_delay\")).alias(\"average\"))\n",
        "result.show()"
      ]
    },
    {
      "cell_type": "markdown",
      "metadata": {
        "id": "9RroUSu6OTs3"
      },
      "source": [
        "### 15. Qual é a média de voos diários para cada mês do ano?"
      ]
    },
    {
      "cell_type": "code",
      "execution_count": 27,
      "metadata": {
        "id": "HZY8XwceQ_5T"
      },
      "outputs": [],
      "source": [
        "number_of_day_df = df.withColumn(\"number_of_day\", expr(\"day(last_day(date))\"))\n"
      ]
    },
    {
      "cell_type": "code",
      "execution_count": 35,
      "metadata": {
        "colab": {
          "base_uri": "https://localhost:8080/"
        },
        "id": "W7iTIKB8Rrqn",
        "outputId": "d3d62b8f-c886-499a-8796-83fa69a5a1b6"
      },
      "outputs": [
        {
          "name": "stdout",
          "output_type": "stream",
          "text": [
            "+-----+-----------------+\n",
            "|month|          average|\n",
            "+-----+-----------------+\n",
            "|    7|949.1935483870968|\n",
            "|   11|908.9333333333333|\n",
            "|    3|930.1290322580645|\n",
            "|    8|946.0322580645161|\n",
            "|    5|928.9032258064516|\n",
            "|    6|941.4333333333333|\n",
            "|    9|919.1333333333333|\n",
            "|    1|871.0967741935484|\n",
            "|   10|931.9032258064516|\n",
            "|    4|944.3333333333334|\n",
            "|   12|907.5806451612904|\n",
            "|    2|891.1071428571429|\n",
            "+-----+-----------------+\n",
            "\n"
          ]
        }
      ],
      "source": [
        "group_by_month_df = number_of_day_df \\\n",
        "                    .groupBy(\"month\") \\\n",
        "                    .agg(\n",
        "                        (count(\"*\")/first(\"number_of_day\")) \\\n",
        "                        .alias(\"average\")\n",
        "                    )\n",
        "\n",
        "group_by_month_df.show()"
      ]
    },
    {
      "cell_type": "markdown",
      "metadata": {
        "id": "tpPR0MXVVuJq"
      },
      "source": [
        "### 16. Quais são as 3 rotas mais comuns que tiveram atrasos na chegada superiores a 30 minutos?"
      ]
    },
    {
      "cell_type": "code",
      "execution_count": 29,
      "metadata": {
        "colab": {
          "base_uri": "https://localhost:8080/"
        },
        "id": "K1vXbPxUBApQ",
        "outputId": "cd7b028b-dc0e-4377-d28a-1fbbf62b7185"
      },
      "outputs": [
        {
          "name": "stdout",
          "output_type": "stream",
          "text": [
            "+------+----+-----+\n",
            "|origin|dest|count|\n",
            "+------+----+-----+\n",
            "|   LGA| ATL| 1563|\n",
            "|   JFK| LAX| 1286|\n",
            "|   LGA| ORD| 1188|\n",
            "+------+----+-----+\n",
            "\n"
          ]
        }
      ],
      "source": [
        "voos_atrasados_df = df.filter(df.arr_delay > 30)\n",
        "result = voos_atrasados_df.groupBy(\"origin\", \"dest\").agg(count(\"*\").alias(\"count\"))\n",
        "result = result.sort(col(\"count\").desc()).limit(3)\n",
        "result.show()"
      ]
    },
    {
      "cell_type": "markdown",
      "metadata": {
        "id": "aNuQFEGWXZtW"
      },
      "source": [
        "### 17. Para cada origem, qual o principal destino?"
      ]
    },
    {
      "cell_type": "code",
      "execution_count": 30,
      "metadata": {
        "id": "f6tmgGK5XrTk"
      },
      "outputs": [],
      "source": [
        "group_origin_dest_df = df.groupBy(\"origin\", \"dest\").agg(count(\"*\").alias(\"total_count\"))\n",
        "df_max_count = group_origin_dest_df.groupBy(\"origin\").agg(max(\"total_count\").alias(\"max_count\"))"
      ]
    },
    {
      "cell_type": "code",
      "execution_count": 31,
      "metadata": {
        "id": "spMF4vXIXrTz"
      },
      "outputs": [],
      "source": [
        "df_result = group_origin_dest_df.join(\n",
        "    df_max_count,\n",
        "    (group_origin_dest_df.origin == df_max_count.origin) &\n",
        "    (group_origin_dest_df.total_count == df_max_count.max_count)\n",
        ")"
      ]
    },
    {
      "cell_type": "code",
      "execution_count": 32,
      "metadata": {
        "colab": {
          "base_uri": "https://localhost:8080/"
        },
        "id": "3vMzb8pkXrT0",
        "outputId": "5780dd25-715e-433f-c43f-637ba6461ac1"
      },
      "outputs": [
        {
          "name": "stdout",
          "output_type": "stream",
          "text": [
            "+------+----+-----------+------+---------+\n",
            "|origin|dest|total_count|origin|max_count|\n",
            "+------+----+-----------+------+---------+\n",
            "|   EWR| ORD|       6100|   EWR|     6100|\n",
            "|   JFK| LAX|      11262|   JFK|    11262|\n",
            "|   LGA| ATL|      10263|   LGA|    10263|\n",
            "+------+----+-----------+------+---------+\n",
            "\n"
          ]
        }
      ],
      "source": [
        "df_result.show()"
      ]
    }
  ],
  "metadata": {
    "colab": {
      "authorship_tag": "ABX9TyPx/FFZ5Za1b+kJZr4ViYIr",
      "collapsed_sections": [
        "9xIBw0Nw481t"
      ],
      "include_colab_link": true,
      "provenance": []
    },
    "kernelspec": {
      "display_name": "Python 3",
      "name": "python3"
    },
    "language_info": {
      "name": "python"
    }
  },
  "nbformat": 4,
  "nbformat_minor": 0
}
