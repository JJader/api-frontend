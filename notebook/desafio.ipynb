{
  "nbformat": 4,
  "nbformat_minor": 0,
  "metadata": {
    "colab": {
      "provenance": [],
      "collapsed_sections": [
        "9xIBw0Nw481t"
      ],
      "authorship_tag": "ABX9TyPx/FFZ5Za1b+kJZr4ViYIr",
      "include_colab_link": true
    },
    "kernelspec": {
      "name": "python3",
      "display_name": "Python 3"
    },
    "language_info": {
      "name": "python"
    }
  },
  "cells": [
    {
      "cell_type": "markdown",
      "metadata": {
        "id": "view-in-github",
        "colab_type": "text"
      },
      "source": [
        "<a href=\"https://colab.research.google.com/github/JJader/api-frontend/blob/feat%2Fcreate-celery-routes/notebook/desafio.ipynb\" target=\"_parent\"><img src=\"https://colab.research.google.com/assets/colab-badge.svg\" alt=\"Open In Colab\"/></a>"
      ]
    },
    {
      "cell_type": "markdown",
      "source": [
        "# Configurando o ambiente"
      ],
      "metadata": {
        "id": "KRKXegYlEZQE"
      }
    },
    {
      "cell_type": "code",
      "source": [
        "from google.colab import drive\n",
        "drive.mount('/content/drive')"
      ],
      "metadata": {
        "colab": {
          "base_uri": "https://localhost:8080/"
        },
        "id": "OH_MmecTCH06",
        "outputId": "ab471e96-e103-4684-a1ec-662cf96af944"
      },
      "execution_count": 2,
      "outputs": [
        {
          "output_type": "stream",
          "name": "stdout",
          "text": [
            "Mounted at /content/drive\n"
          ]
        }
      ]
    },
    {
      "cell_type": "code",
      "source": [
        "!pip install -U pandas==1.5.3 &> /dev/null\n",
        "!pip install -q findspark pyspark \"mlflow==2.15.1\" &> /dev/null"
      ],
      "metadata": {
        "id": "4B_jRIhs25dJ"
      },
      "execution_count": 3,
      "outputs": []
    },
    {
      "cell_type": "code",
      "source": [
        "import os\n",
        "import findspark"
      ],
      "metadata": {
        "id": "qsB1vAss2VVy"
      },
      "execution_count": 4,
      "outputs": []
    },
    {
      "cell_type": "code",
      "execution_count": 5,
      "metadata": {
        "id": "qCD-FxoOWM3G"
      },
      "outputs": [],
      "source": [
        "# instalar as dependências do spark\n",
        "!apt-get install openjdk-8-jdk-headless -qq > /dev/null\n",
        "\n",
        "# !wget  https://archive.apache.org/dist/spark/spark-3.1.2/spark-3.1.2-bin-hadoop2.7.tgz\n",
        "!tar xf /content/drive/MyDrive/Colab\\ Notebooks/spark-3.1.2-bin-hadoop2.7.tgz\n",
        "\n",
        "os.environ[\"JAVA_HOME\"] = \"/usr/lib/jvm/java-8-openjdk-amd64\"\n",
        "os.environ[\"SPARK_HOME\"] = \"/content/spark-3.1.2-bin-hadoop2.7\"\n",
        "findspark.init()"
      ]
    },
    {
      "cell_type": "code",
      "source": [
        "!wget https://github.com/PicPay/case-machine-learning-engineer-pleno/raw/main/notebook/airports-database.zip\n",
        "!unzip airports-database.zip -d airports-database"
      ],
      "metadata": {
        "colab": {
          "base_uri": "https://localhost:8080/"
        },
        "id": "j7aibDUA3X9Z",
        "outputId": "820c7263-85f8-4993-fef0-a64b28728995"
      },
      "execution_count": 6,
      "outputs": [
        {
          "output_type": "stream",
          "name": "stdout",
          "text": [
            "--2024-08-25 23:09:40--  https://github.com/PicPay/case-machine-learning-engineer-pleno/raw/main/notebook/airports-database.zip\n",
            "Resolving github.com (github.com)... 140.82.114.3\n",
            "Connecting to github.com (github.com)|140.82.114.3|:443... connected.\n",
            "HTTP request sent, awaiting response... 302 Found\n",
            "Location: https://raw.githubusercontent.com/PicPay/case-machine-learning-engineer-pleno/main/notebook/airports-database.zip [following]\n",
            "--2024-08-25 23:09:40--  https://raw.githubusercontent.com/PicPay/case-machine-learning-engineer-pleno/main/notebook/airports-database.zip\n",
            "Resolving raw.githubusercontent.com (raw.githubusercontent.com)... 185.199.108.133, 185.199.109.133, 185.199.110.133, ...\n",
            "Connecting to raw.githubusercontent.com (raw.githubusercontent.com)|185.199.108.133|:443... connected.\n",
            "HTTP request sent, awaiting response... 200 OK\n",
            "Length: 10463368 (10.0M) [application/zip]\n",
            "Saving to: ‘airports-database.zip’\n",
            "\n",
            "airports-database.z 100%[===================>]   9.98M  --.-KB/s    in 0.1s    \n",
            "\n",
            "2024-08-25 23:09:41 (86.3 MB/s) - ‘airports-database.zip’ saved [10463368/10463368]\n",
            "\n",
            "Archive:  airports-database.zip\n",
            "  inflating: airports-database/airports-database.csv  \n",
            "  inflating: airports-database/__MACOSX/._airports-database.csv  \n"
          ]
        }
      ]
    },
    {
      "cell_type": "markdown",
      "source": [
        "# Sessão"
      ],
      "metadata": {
        "id": "p37AU60VEdxl"
      }
    },
    {
      "cell_type": "code",
      "source": [
        "# iniciar uma sessão local\n",
        "from pyspark.sql import SparkSession\n",
        "from pyspark.sql.functions import col, avg, max, count, date_format, stddev, expr, first, to_date\n",
        "\n",
        "#sc = SparkSession.builder.master('local[*]').getOrCreate()\n",
        "spark = SparkSession.builder.appName(\"Introducao\").getOrCreate()\n",
        "spark"
      ],
      "metadata": {
        "id": "YYxwg7OrWttn",
        "colab": {
          "base_uri": "https://localhost:8080/",
          "height": 222
        },
        "outputId": "d7956c3f-106b-4fdf-d7d5-b9c8f7541fc4"
      },
      "execution_count": 7,
      "outputs": [
        {
          "output_type": "execute_result",
          "data": {
            "text/plain": [
              "<pyspark.sql.session.SparkSession at 0x7cf9269dfee0>"
            ],
            "text/html": [
              "\n",
              "            <div>\n",
              "                <p><b>SparkSession - in-memory</b></p>\n",
              "                \n",
              "        <div>\n",
              "            <p><b>SparkContext</b></p>\n",
              "\n",
              "            <p><a href=\"http://6441c35df8a2:4040\">Spark UI</a></p>\n",
              "\n",
              "            <dl>\n",
              "              <dt>Version</dt>\n",
              "                <dd><code>v3.1.2</code></dd>\n",
              "              <dt>Master</dt>\n",
              "                <dd><code>local[*]</code></dd>\n",
              "              <dt>AppName</dt>\n",
              "                <dd><code>Introducao</code></dd>\n",
              "            </dl>\n",
              "        </div>\n",
              "        \n",
              "            </div>\n",
              "        "
            ]
          },
          "metadata": {},
          "execution_count": 7
        }
      ]
    },
    {
      "cell_type": "code",
      "source": [
        "df = spark.read.csv(\"/content/airports-database/airports-database.csv\", header=True)\n",
        "df = df.withColumn(\"date\", to_date(col(\"time_hour\"), \"yyyy-MM-dd HH:mm:ss\"))\n",
        "df = df.withColumn(\"day_of_week_name\", date_format(col(\"date\"), \"EEEE\"))"
      ],
      "metadata": {
        "id": "31ztuw9-33Fu"
      },
      "execution_count": 8,
      "outputs": []
    },
    {
      "cell_type": "markdown",
      "source": [
        "## Perguntas"
      ],
      "metadata": {
        "id": "h27oC9jjkgZb"
      }
    },
    {
      "cell_type": "markdown",
      "source": [
        "### 1. Qual é o número total de voos no conjunto de dados?"
      ],
      "metadata": {
        "id": "Rb1lH9xYklV3"
      }
    },
    {
      "cell_type": "code",
      "source": [
        "total_voos = df.count()\n",
        "print(f\"Número de voos total é {total_voos}\")"
      ],
      "metadata": {
        "colab": {
          "base_uri": "https://localhost:8080/"
        },
        "id": "NzVbwKmNm5Gv",
        "outputId": "facf6f25-1342-404a-cac6-98e2ef5445e6"
      },
      "execution_count": 9,
      "outputs": [
        {
          "output_type": "stream",
          "name": "stdout",
          "text": [
            "Número de voos total é 336776\n"
          ]
        }
      ]
    },
    {
      "cell_type": "markdown",
      "source": [
        "### 2. Quantos voos foram cancelados? (Considerando que voos cancelados têm dep_time e arr_time nulos)"
      ],
      "metadata": {
        "id": "Hp3NDkaanLcM"
      }
    },
    {
      "cell_type": "code",
      "source": [
        "num_empty_rows = df.filter(col(\"dep_time\").isNull() & col(\"arr_time\").isNull()).count()\n",
        "print(f\"Número de voos cancelados {num_empty_rows}\")"
      ],
      "metadata": {
        "colab": {
          "base_uri": "https://localhost:8080/"
        },
        "id": "06bicYtKkpQg",
        "outputId": "7b8731c9-4081-49fb-8927-69481cd4cfa6"
      },
      "execution_count": 10,
      "outputs": [
        {
          "output_type": "stream",
          "name": "stdout",
          "text": [
            "Número de voos cancelados 8255\n"
          ]
        }
      ]
    },
    {
      "cell_type": "markdown",
      "source": [
        "### 3. Qual é o atraso médio na partida dos voos (dep_delay)?"
      ],
      "metadata": {
        "id": "rCSt2pDvoJQ0"
      }
    },
    {
      "cell_type": "code",
      "source": [
        "average = df.agg(avg(col(\"dep_delay\")).alias(\"average\")).collect()[0][\"average\"]\n",
        "print(f\"Media atraso médio {average:.2f}\")"
      ],
      "metadata": {
        "colab": {
          "base_uri": "https://localhost:8080/"
        },
        "id": "agl8No0anx_y",
        "outputId": "1cd6a016-7801-4678-e5bb-0c63977b3125"
      },
      "execution_count": 11,
      "outputs": [
        {
          "output_type": "stream",
          "name": "stdout",
          "text": [
            "Media atraso médio 12.64\n"
          ]
        }
      ]
    },
    {
      "cell_type": "markdown",
      "source": [
        "### 4. Quais são os 5 aeroportos com maior número de pousos?"
      ],
      "metadata": {
        "id": "XFOjjsnMqun6"
      }
    },
    {
      "cell_type": "code",
      "source": [
        "dest_count_df = df.groupBy(\"dest\").agg(count(\"*\").alias(\"count\"))\n",
        "result = dest_count_df.sort(col(\"count\").desc()).limit(5)\n",
        "\n",
        "print(f\"5 Aeroportos com maior numero de pouso\")\n",
        "result.show()"
      ],
      "metadata": {
        "colab": {
          "base_uri": "https://localhost:8080/"
        },
        "id": "SobBqyHNqrmx",
        "outputId": "02b27b6e-d358-448b-95f4-2b0f860293b3"
      },
      "execution_count": 12,
      "outputs": [
        {
          "output_type": "stream",
          "name": "stdout",
          "text": [
            "5 Aeroportos com maior numero de pouso\n",
            "+----+-----+\n",
            "|dest|count|\n",
            "+----+-----+\n",
            "| ORD|17283|\n",
            "| ATL|17215|\n",
            "| LAX|16174|\n",
            "| BOS|15508|\n",
            "| MCO|14082|\n",
            "+----+-----+\n",
            "\n"
          ]
        }
      ]
    },
    {
      "cell_type": "markdown",
      "source": [
        "### 5. Qual é a rota mais frequente (par origin-dest)?"
      ],
      "metadata": {
        "id": "yQwaq0Fxr0x7"
      }
    },
    {
      "cell_type": "code",
      "source": [
        "dest_count_df = df.groupBy(\"origin\",\"dest\").agg(count(\"*\").alias(\"count\"))\n",
        "result = dest_count_df.sort(col(\"count\").desc()).limit(1)\n",
        "\n",
        "print(f\"rota acom maior frequencia\")\n",
        "result.show()"
      ],
      "metadata": {
        "colab": {
          "base_uri": "https://localhost:8080/"
        },
        "id": "FfXrM4X2ryBx",
        "outputId": "90cbc5ab-cd35-4dc2-ebdf-1b6659bd5cdb"
      },
      "execution_count": 13,
      "outputs": [
        {
          "output_type": "stream",
          "name": "stdout",
          "text": [
            "rota acom maior frequencia\n",
            "+------+----+-----+\n",
            "|origin|dest|count|\n",
            "+------+----+-----+\n",
            "|   JFK| LAX|11262|\n",
            "+------+----+-----+\n",
            "\n"
          ]
        }
      ]
    },
    {
      "cell_type": "markdown",
      "source": [
        "### 6. Quais são as 5 companhias aéreas com maior tempo médio de atraso na chegada?(Exiba também o tempo)"
      ],
      "metadata": {
        "id": "mo3_nfJHzIP6"
      }
    },
    {
      "cell_type": "code",
      "source": [
        "average = df.groupBy(\"name\", \"carrier\").agg(avg(col(\"arr_delay\")).alias(\"average\"))\n",
        "average.sort(col(\"average\").desc()).limit(5).show()"
      ],
      "metadata": {
        "colab": {
          "base_uri": "https://localhost:8080/"
        },
        "id": "9qZZca5V1zjf",
        "outputId": "05386fdd-fc78-478b-f049-3efc08d98687"
      },
      "execution_count": 14,
      "outputs": [
        {
          "output_type": "stream",
          "name": "stdout",
          "text": [
            "+--------------------+-------+------------------+\n",
            "|                name|carrier|           average|\n",
            "+--------------------+-------+------------------+\n",
            "|Frontier Airlines...|     F9|21.920704845814978|\n",
            "|AirTran Airways C...|     FL|20.115905511811025|\n",
            "|ExpressJet Airlin...|     EV| 15.79643108710965|\n",
            "|  Mesa Airlines Inc.|     YV|15.556985294117647|\n",
            "|SkyWest Airlines ...|     OO|11.931034482758621|\n",
            "+--------------------+-------+------------------+\n",
            "\n"
          ]
        }
      ]
    },
    {
      "cell_type": "markdown",
      "source": [
        "### 7. Qual é o dia da semana com maior número de voos?"
      ],
      "metadata": {
        "id": "plqsRV_v1cGB"
      }
    },
    {
      "cell_type": "code",
      "source": [
        "result = df.groupBy(\"day_of_week_name\").agg(count(\"*\").alias(\"count\"))\n",
        "result = result.sort(col(\"count\").desc()).limit(1)"
      ],
      "metadata": {
        "id": "eNyH_GZApUkA"
      },
      "execution_count": 15,
      "outputs": []
    },
    {
      "cell_type": "code",
      "source": [
        "print(f\"Dia da semana com maior numero de voos\")\n",
        "result.show()"
      ],
      "metadata": {
        "colab": {
          "base_uri": "https://localhost:8080/"
        },
        "id": "DZDBRQUn23W-",
        "outputId": "1a8dea0c-7198-4a5d-a265-6897be0dc6c9"
      },
      "execution_count": 16,
      "outputs": [
        {
          "output_type": "stream",
          "name": "stdout",
          "text": [
            "Dia da semana com maior numero de voos\n",
            "+----------------+-----+\n",
            "|day_of_week_name|count|\n",
            "+----------------+-----+\n",
            "|          Monday|50690|\n",
            "+----------------+-----+\n",
            "\n"
          ]
        }
      ]
    },
    {
      "cell_type": "markdown",
      "source": [
        "### 8. Qual o percentual mensal dos voos tiveram atraso na partida superior a 30 minutos?"
      ],
      "metadata": {
        "id": "vVfKZQNN40tN"
      }
    },
    {
      "cell_type": "code",
      "source": [
        "voos_total = df.count()\n",
        "voos_total_atrasados_30 = df.filter(df.dep_delay > 30).count()\n",
        "porcentagem = voos_total_atrasados_30/voos_total*100\n",
        "\n",
        "print(f\"Porcentagem de voos atrasados mais que 30m na partida {porcentagem:.2f}\\%\")"
      ],
      "metadata": {
        "colab": {
          "base_uri": "https://localhost:8080/"
        },
        "id": "ZebcWMVJ40IO",
        "outputId": "cccd1951-4161-4faf-a40b-345616b1e1f3"
      },
      "execution_count": 17,
      "outputs": [
        {
          "output_type": "stream",
          "name": "stdout",
          "text": [
            "Porcentagem de voos atrasados mais que 30m na partida 14.34\\%\n"
          ]
        }
      ]
    },
    {
      "cell_type": "markdown",
      "source": [
        "### 9. Qual a origem mais comum para voos que pousaram em Seattle (SEA)?"
      ],
      "metadata": {
        "id": "w_-yaWjC7Vl5"
      }
    },
    {
      "cell_type": "code",
      "source": [
        "seattle_df = df.filter(df.dest == \"SEA\")\n",
        "result = seattle_df.groupBy(\"origin\", \"dest\").agg(count(\"*\").alias(\"count\"))\n",
        "\n",
        "result = result.sort(col(\"count\").desc()).limit(1)\n",
        "result_value = result.select(\"origin\").rdd.flatMap(list).collect()[0]"
      ],
      "metadata": {
        "id": "P9trX4a16gfi"
      },
      "execution_count": 18,
      "outputs": []
    },
    {
      "cell_type": "code",
      "source": [
        "print(f\"Origem que mais pousa em seattle é {result_value}\")"
      ],
      "metadata": {
        "colab": {
          "base_uri": "https://localhost:8080/"
        },
        "id": "AAg93ZQy8c77",
        "outputId": "417351e6-2fba-4d2d-dead-ef71123ae1cd"
      },
      "execution_count": 19,
      "outputs": [
        {
          "output_type": "stream",
          "name": "stdout",
          "text": [
            "Origem que mais pousa em seattle é JFK\n"
          ]
        }
      ]
    },
    {
      "cell_type": "markdown",
      "source": [
        "###  10. Qual é a média de atraso na partida dos voos (dep_delay) para cada dia da semana?"
      ],
      "metadata": {
        "id": "R5sAkuQb9bhE"
      }
    },
    {
      "cell_type": "code",
      "source": [
        "result = df.groupBy(\"day_of_week_name\").agg(avg(col(\"dep_delay\")).alias(\"average\"))\n",
        "result.show()"
      ],
      "metadata": {
        "colab": {
          "base_uri": "https://localhost:8080/"
        },
        "id": "E9-mWknw8E9B",
        "outputId": "7b465475-0de3-4fd6-9766-8322f036b760"
      },
      "execution_count": 20,
      "outputs": [
        {
          "output_type": "stream",
          "name": "stdout",
          "text": [
            "+----------------+------------------+\n",
            "|day_of_week_name|           average|\n",
            "+----------------+------------------+\n",
            "|       Wednesday|11.803512219083876|\n",
            "|         Tuesday|10.631682565455652|\n",
            "|          Friday| 14.69605749486653|\n",
            "|        Thursday|16.148919990957108|\n",
            "|        Saturday| 7.650502333676133|\n",
            "|          Monday|14.778936729330908|\n",
            "|          Sunday|11.589531801152422|\n",
            "+----------------+------------------+\n",
            "\n"
          ]
        }
      ]
    },
    {
      "cell_type": "markdown",
      "source": [
        "###  11. Qual é a rota que teve o maior tempo de voo médio (air_time)?"
      ],
      "metadata": {
        "id": "ywEKs4PV-YCz"
      }
    },
    {
      "cell_type": "code",
      "source": [
        "result = df.sort(col(\"air_time\").desc()).limit(1)\n",
        "result.select(\"origin\", \"dest\", \"air_time\").show()"
      ],
      "metadata": {
        "colab": {
          "base_uri": "https://localhost:8080/"
        },
        "id": "mtUhglPF-Xdp",
        "outputId": "b72e7708-95b5-481c-c685-d36a39d5e4be"
      },
      "execution_count": 21,
      "outputs": [
        {
          "output_type": "stream",
          "name": "stdout",
          "text": [
            "+------+----+--------+\n",
            "|origin|dest|air_time|\n",
            "+------+----+--------+\n",
            "|   LGA| CLT|    99.0|\n",
            "+------+----+--------+\n",
            "\n"
          ]
        }
      ]
    },
    {
      "cell_type": "markdown",
      "source": [
        "### 12. Para cada aeroporto de origem, qual é o aeroporto de destino mais comum?"
      ],
      "metadata": {
        "id": "HzIg2B-eAN1H"
      }
    },
    {
      "cell_type": "code",
      "source": [
        "group_origin_dest_df = df.groupBy(\"origin\", \"dest\").agg(count(\"*\").alias(\"total_count\"))\n",
        "df_max_count = group_origin_dest_df.groupBy(\"origin\").agg(max(\"total_count\").alias(\"max_count\"))"
      ],
      "metadata": {
        "id": "WjA7ojh5AYCu"
      },
      "execution_count": 22,
      "outputs": []
    },
    {
      "cell_type": "code",
      "source": [
        "df_result = group_origin_dest_df.join(\n",
        "    df_max_count,\n",
        "    (group_origin_dest_df.origin == df_max_count.origin) &\n",
        "    (group_origin_dest_df.total_count == df_max_count.max_count)\n",
        ")"
      ],
      "metadata": {
        "id": "hT09V6dXCVfY"
      },
      "execution_count": 23,
      "outputs": []
    },
    {
      "cell_type": "code",
      "source": [
        "df_result.show()"
      ],
      "metadata": {
        "colab": {
          "base_uri": "https://localhost:8080/"
        },
        "id": "JVEPSSxwDiFi",
        "outputId": "0b850724-c40d-4987-ff46-d24e53a5d99e"
      },
      "execution_count": 24,
      "outputs": [
        {
          "output_type": "stream",
          "name": "stdout",
          "text": [
            "+------+----+-----------+------+---------+\n",
            "|origin|dest|total_count|origin|max_count|\n",
            "+------+----+-----------+------+---------+\n",
            "|   EWR| ORD|       6100|   EWR|     6100|\n",
            "|   JFK| LAX|      11262|   JFK|    11262|\n",
            "|   LGA| ATL|      10263|   LGA|    10263|\n",
            "+------+----+-----------+------+---------+\n",
            "\n"
          ]
        }
      ]
    },
    {
      "cell_type": "markdown",
      "source": [
        "###  13. Quais são as 3 rotas que tiveram a maior variação no tempo médio de voo (air_time) ?"
      ],
      "metadata": {
        "id": "HDOOyV9iFY4e"
      }
    },
    {
      "cell_type": "code",
      "source": [
        "result = df.groupBy(\"origin\", \"dest\").agg(stddev(col(\"air_time\")).alias(\"std\"))\n",
        "result = result.sort(col(\"std\").desc()).limit(3)\n",
        "result.show()"
      ],
      "metadata": {
        "colab": {
          "base_uri": "https://localhost:8080/"
        },
        "id": "27Wq4tfODIAf",
        "outputId": "473a60b8-4c2e-43a0-f742-87412d54c549"
      },
      "execution_count": 25,
      "outputs": [
        {
          "output_type": "stream",
          "name": "stdout",
          "text": [
            "+------+----+------------------+\n",
            "|origin|dest|               std|\n",
            "+------+----+------------------+\n",
            "|   LGA| MYR| 25.32455988429677|\n",
            "|   EWR| HNL| 21.26613546847427|\n",
            "|   JFK| HNL|20.688824842787056|\n",
            "+------+----+------------------+\n",
            "\n"
          ]
        }
      ]
    },
    {
      "cell_type": "markdown",
      "source": [
        "### 14. Qual é a média de atraso na chegada para voos que tiveram atraso na partida superior a 1 hora?"
      ],
      "metadata": {
        "id": "5AKD9ovlGMWX"
      }
    },
    {
      "cell_type": "code",
      "source": [
        "voos_atrasados_df = df.filter(df.dep_delay > 60)\n",
        "result = voos_atrasados_df.agg(avg(col(\"arr_delay\")).alias(\"average\"))\n",
        "result.show()"
      ],
      "metadata": {
        "colab": {
          "base_uri": "https://localhost:8080/"
        },
        "id": "Pe5-VMzUCKM0",
        "outputId": "c3a771a6-53a9-4671-ae2b-18697154fdfa"
      },
      "execution_count": 26,
      "outputs": [
        {
          "output_type": "stream",
          "name": "stdout",
          "text": [
            "+------------------+\n",
            "|           average|\n",
            "+------------------+\n",
            "|119.04880549963919|\n",
            "+------------------+\n",
            "\n"
          ]
        }
      ]
    },
    {
      "cell_type": "markdown",
      "source": [
        "### 15. Qual é a média de voos diários para cada mês do ano?"
      ],
      "metadata": {
        "id": "9RroUSu6OTs3"
      }
    },
    {
      "cell_type": "code",
      "source": [
        "number_of_day_df = df.withColumn(\"number_of_day\", expr(\"day(last_day(date))\"))\n"
      ],
      "metadata": {
        "id": "HZY8XwceQ_5T"
      },
      "execution_count": 27,
      "outputs": []
    },
    {
      "cell_type": "code",
      "source": [
        "group_by_month_df = number_of_day_df \\\n",
        "                    .groupBy(\"month\") \\\n",
        "                    .agg(\n",
        "                        (count(\"*\")/first(\"number_of_day\")) \\\n",
        "                        .alias(\"average\")\n",
        "                    )\n",
        "\n",
        "group_by_month_df.show()"
      ],
      "metadata": {
        "colab": {
          "base_uri": "https://localhost:8080/"
        },
        "id": "W7iTIKB8Rrqn",
        "outputId": "d3d62b8f-c886-499a-8796-83fa69a5a1b6"
      },
      "execution_count": 35,
      "outputs": [
        {
          "output_type": "stream",
          "name": "stdout",
          "text": [
            "+-----+-----------------+\n",
            "|month|          average|\n",
            "+-----+-----------------+\n",
            "|    7|949.1935483870968|\n",
            "|   11|908.9333333333333|\n",
            "|    3|930.1290322580645|\n",
            "|    8|946.0322580645161|\n",
            "|    5|928.9032258064516|\n",
            "|    6|941.4333333333333|\n",
            "|    9|919.1333333333333|\n",
            "|    1|871.0967741935484|\n",
            "|   10|931.9032258064516|\n",
            "|    4|944.3333333333334|\n",
            "|   12|907.5806451612904|\n",
            "|    2|891.1071428571429|\n",
            "+-----+-----------------+\n",
            "\n"
          ]
        }
      ]
    },
    {
      "cell_type": "markdown",
      "source": [
        "### 16. Quais são as 3 rotas mais comuns que tiveram atrasos na chegada superiores a 30 minutos?"
      ],
      "metadata": {
        "id": "tpPR0MXVVuJq"
      }
    },
    {
      "cell_type": "code",
      "source": [
        "voos_atrasados_df = df.filter(df.arr_delay > 30)\n",
        "result = voos_atrasados_df.groupBy(\"origin\", \"dest\").agg(count(\"*\").alias(\"count\"))\n",
        "result = result.sort(col(\"count\").desc()).limit(3)\n",
        "result.show()"
      ],
      "metadata": {
        "colab": {
          "base_uri": "https://localhost:8080/"
        },
        "id": "K1vXbPxUBApQ",
        "outputId": "cd7b028b-dc0e-4377-d28a-1fbbf62b7185"
      },
      "execution_count": 29,
      "outputs": [
        {
          "output_type": "stream",
          "name": "stdout",
          "text": [
            "+------+----+-----+\n",
            "|origin|dest|count|\n",
            "+------+----+-----+\n",
            "|   LGA| ATL| 1563|\n",
            "|   JFK| LAX| 1286|\n",
            "|   LGA| ORD| 1188|\n",
            "+------+----+-----+\n",
            "\n"
          ]
        }
      ]
    },
    {
      "cell_type": "markdown",
      "source": [
        "### 17. Para cada origem, qual o principal destino?"
      ],
      "metadata": {
        "id": "aNuQFEGWXZtW"
      }
    },
    {
      "cell_type": "code",
      "source": [
        "group_origin_dest_df = df.groupBy(\"origin\", \"dest\").agg(count(\"*\").alias(\"total_count\"))\n",
        "df_max_count = group_origin_dest_df.groupBy(\"origin\").agg(max(\"total_count\").alias(\"max_count\"))"
      ],
      "metadata": {
        "id": "f6tmgGK5XrTk"
      },
      "execution_count": 30,
      "outputs": []
    },
    {
      "cell_type": "code",
      "source": [
        "df_result = group_origin_dest_df.join(\n",
        "    df_max_count,\n",
        "    (group_origin_dest_df.origin == df_max_count.origin) &\n",
        "    (group_origin_dest_df.total_count == df_max_count.max_count)\n",
        ")"
      ],
      "metadata": {
        "id": "spMF4vXIXrTz"
      },
      "execution_count": 31,
      "outputs": []
    },
    {
      "cell_type": "code",
      "source": [
        "df_result.show()"
      ],
      "metadata": {
        "colab": {
          "base_uri": "https://localhost:8080/"
        },
        "outputId": "5780dd25-715e-433f-c43f-637ba6461ac1",
        "id": "3vMzb8pkXrT0"
      },
      "execution_count": 32,
      "outputs": [
        {
          "output_type": "stream",
          "name": "stdout",
          "text": [
            "+------+----+-----------+------+---------+\n",
            "|origin|dest|total_count|origin|max_count|\n",
            "+------+----+-----------+------+---------+\n",
            "|   EWR| ORD|       6100|   EWR|     6100|\n",
            "|   JFK| LAX|      11262|   JFK|    11262|\n",
            "|   LGA| ATL|      10263|   LGA|    10263|\n",
            "+------+----+-----------+------+---------+\n",
            "\n"
          ]
        }
      ]
    },
    {
      "cell_type": "markdown",
      "source": [
        "## Enriquecimento"
      ],
      "metadata": {
        "id": "1P7CbULz43Tr"
      }
    },
    {
      "cell_type": "code",
      "source": [
        "from pyspark.sql.types import ArrayType, StructType, StructField, StringType, IntegerType\n",
        "from pyspark.sql.functions import udf, explode, lit, date_add, to_date\n",
        "import requests"
      ],
      "metadata": {
        "id": "odip6jAT5A0A"
      },
      "execution_count": 34,
      "outputs": []
    },
    {
      "cell_type": "markdown",
      "source": [
        "### AirportDB API:"
      ],
      "metadata": {
        "id": "9xIBw0Nw481t"
      }
    },
    {
      "cell_type": "code",
      "source": [
        "schema = StructType([\n",
        "    StructField(\"latitude_deg\", StringType(), True),\n",
        "    StructField(\"longitude_deg\", StringType(), True),\n",
        "])\n",
        "\n",
        "@udf(returnType=schema)\n",
        "def fetch_data(airport_code: str):\n",
        "    airportdb_key = \"ae7555efbe721faff667b69c9031a059619294bbdec5489a16c65b5196dff4d4dfd7e1f58bb76e07a22128297ac96e1d\"\n",
        "    url = f\"https://airportdb.io/api/v1/airport/K{airport_code}?apiToken={airportdb_key}\"\n",
        "\n",
        "    response = requests.get(url)\n",
        "    result_json = response.json()\n",
        "    latitude_deg = result_json.get(\"latitude_deg\")\n",
        "    longitude_deg = result_json.get(\"longitude_deg\")\n",
        "    return latitude_deg,longitude_deg"
      ],
      "metadata": {
        "id": "NYPuohBNikHm"
      },
      "execution_count": null,
      "outputs": []
    },
    {
      "cell_type": "code",
      "source": [
        "origin_df = df.select(\"origin\").withColumnRenamed(\"origin\", \"airport\")\n",
        "dest_df = df.select(\"dest\").withColumnRenamed(\"dest\", \"airport\")\n",
        "\n",
        "combined_df = origin_df.union(dest_df).distinct()\n",
        "combined_list = (\n",
        "     combined_df\n",
        "    .rdd.map(lambda row : row[0])\n",
        "    .collect()\n",
        ")"
      ],
      "metadata": {
        "id": "R2TOLbApBVUJ"
      },
      "execution_count": null,
      "outputs": []
    },
    {
      "cell_type": "code",
      "source": [
        "response_df = combined_df.withColumn(\"response\", fetch_data(\"airport\"))\n",
        "airport_location_df = response_df.select(*combined_df.columns,\"response.*\")"
      ],
      "metadata": {
        "id": "rkMq2sd7F1f4"
      },
      "execution_count": null,
      "outputs": []
    },
    {
      "cell_type": "code",
      "source": [
        "airport_location_df.write \\\n",
        "    .format(\"csv\") \\\n",
        "    .option(\"header\", \"true\") \\\n",
        "    .mode(\"overwrite\") \\\n",
        "    .save(\"/content/drive/MyDrive/picpay/airport.csv\")"
      ],
      "metadata": {
        "id": "KH08WbJIIQEH"
      },
      "execution_count": null,
      "outputs": []
    },
    {
      "cell_type": "markdown",
      "source": [
        "### Weatherbit API:"
      ],
      "metadata": {
        "id": "4ZGRXpcd457O"
      }
    },
    {
      "cell_type": "code",
      "source": [
        "@udf(StringType())\n",
        "def fetch_weatherbit_api(latitude: str, longitude: str, start_date, end_date ):\n",
        "    url = \"https://api.weatherbit.io/v2.0/history/daily\"\n",
        "    weatherbit_key = \"eb4a4aab29b34faaafed11834d3620f3\"\n",
        "\n",
        "    params = {\n",
        "      'lat': latitude,\n",
        "      'lon': longitude,\n",
        "      'start_date': start_date.strftime('%Y-%m-%d'),\n",
        "      'end_date': end_date.strftime('%Y-%m-%d'),\n",
        "      'key': weatherbit_key,\n",
        "    }\n",
        "    headers = {\n",
        "      'Accept': 'application/json',\n",
        "    }\n",
        "    response = requests.get(url, params=params, headers=headers)\n",
        "    data = response.json()\n",
        "    return data.get(\"wind_spd\")"
      ],
      "metadata": {
        "id": "aKAAGto6hr82"
      },
      "execution_count": 35,
      "outputs": []
    },
    {
      "cell_type": "code",
      "source": [
        "airport_location_df = spark.read.csv(\"/content/drive/MyDrive/picpay/airport.csv\", header=True)"
      ],
      "metadata": {
        "id": "sVwnusxCIJ3J"
      },
      "execution_count": 36,
      "outputs": []
    },
    {
      "cell_type": "code",
      "source": [
        "df_result = group_origin_dest_df.join(\n",
        "    df_max_count,\n",
        "    (group_origin_dest_df.origin == df_max_count.origin) &\n",
        "    (group_origin_dest_df.total_count == df_max_count.max_count)\n",
        ")"
      ],
      "metadata": {
        "id": "1iZNxJXvfN2k"
      },
      "execution_count": 37,
      "outputs": []
    },
    {
      "cell_type": "code",
      "source": [
        "df_with_origin_coords = df.join(\n",
        "    airport_location_df,\n",
        "    airport_location_df.airport == df.origin,\n",
        ").select(\n",
        "    *df.columns,\n",
        "    col('latitude_deg').alias('origin_latitude'),\n",
        "    col('longitude_deg').alias('origin_longitude')\n",
        ")\n"
      ],
      "metadata": {
        "id": "E9a1TRrkee6L"
      },
      "execution_count": 38,
      "outputs": []
    },
    {
      "cell_type": "code",
      "source": [
        "df_with_coords = df_with_origin_coords.join(\n",
        "    airport_location_df,\n",
        "    airport_location_df.airport == df_with_origin_coords.dest,\n",
        ").select(\n",
        "    *df_with_origin_coords.columns,\n",
        "    col('latitude_deg').alias('dest_latitude'),\n",
        "    col('longitude_deg').alias('dest_longitude')\n",
        ")\n",
        "\n",
        "df_with_coords.show()"
      ],
      "metadata": {
        "colab": {
          "base_uri": "https://localhost:8080/"
        },
        "id": "tGkJlh1Rgl97",
        "outputId": "b1c8ab79-0c24-4c19-880f-0e7f9381bb87"
      },
      "execution_count": 39,
      "outputs": [
        {
          "output_type": "stream",
          "name": "stdout",
          "text": [
            "+---+----+-----+---+--------+--------------+---------+--------+--------------+---------+-------+------+-------+------+----+--------+--------+----+------+-------------------+--------------------+---------------+----------------+------------------+------------------+\n",
            "| id|year|month|day|dep_time|sched_dep_time|dep_delay|arr_time|sched_arr_time|arr_delay|carrier|flight|tailnum|origin|dest|air_time|distance|hour|minute|          time_hour|                name|origin_latitude|origin_longitude|     dest_latitude|    dest_longitude|\n",
            "+---+----+-----+---+--------+--------------+---------+--------+--------------+---------+-------+------+-------+------+----+--------+--------+----+------+-------------------+--------------------+---------------+----------------+------------------+------------------+\n",
            "|  0|2013|    1|  1|   517.0|           515|      2.0|   830.0|           819|     11.0|     UA|  1545| N14228|   EWR| IAH|   227.0|    1400|   5|    15|2013-01-01 05:00:00|United Air Lines ...|      40.692501|      -74.168701|29.984399795532227|-95.34140014648438|\n",
            "|  1|2013|    1|  1|   533.0|           529|      4.0|   850.0|           830|     20.0|     UA|  1714| N24211|   LGA| IAH|   227.0|    1416|   5|    29|2013-01-01 05:00:00|United Air Lines ...|      40.777199|      -73.872597|29.984399795532227|-95.34140014648438|\n",
            "|  2|2013|    1|  1|   542.0|           540|      2.0|   923.0|           850|     33.0|     AA|  1141| N619AA|   JFK| MIA|   160.0|    1089|   5|    40|2013-01-01 05:00:00|American Airlines...|      40.639801|        -73.7789| 25.79319953918457|-80.29060363769531|\n",
            "|  3|2013|    1|  1|   544.0|           545|     -1.0|  1004.0|          1022|    -18.0|     B6|   725| N804JB|   JFK| BQN|   183.0|    1576|   5|    45|2013-01-01 05:00:00|     JetBlue Airways|      40.639801|        -73.7789|              null|              null|\n",
            "|  4|2013|    1|  1|   554.0|           600|     -6.0|   812.0|           837|    -25.0|     DL|   461| N668DN|   LGA| ATL|   116.0|     762|   6|     0|2013-01-01 06:00:00|Delta Air Lines Inc.|      40.777199|      -73.872597|           33.6367|        -84.428101|\n",
            "|  5|2013|    1|  1|   554.0|           558|     -4.0|   740.0|           728|     12.0|     UA|  1696| N39463|   EWR| ORD|   150.0|     719|   5|    58|2013-01-01 05:00:00|United Air Lines ...|      40.692501|      -74.168701|           41.9786|          -87.9048|\n",
            "|  6|2013|    1|  1|   555.0|           600|     -5.0|   913.0|           854|     19.0|     B6|   507| N516JB|   EWR| FLL|   158.0|    1065|   6|     0|2013-01-01 06:00:00|     JetBlue Airways|      40.692501|      -74.168701|         26.072599|        -80.152702|\n",
            "|  7|2013|    1|  1|   557.0|           600|     -3.0|   709.0|           723|    -14.0|     EV|  5708| N829AS|   LGA| IAD|    53.0|     229|   6|     0|2013-01-01 06:00:00|ExpressJet Airlin...|      40.777199|      -73.872597|           38.9445|        -77.455803|\n",
            "|  8|2013|    1|  1|   557.0|           600|     -3.0|   838.0|           846|     -8.0|     B6|    79| N593JB|   JFK| MCO|   140.0|     944|   6|     0|2013-01-01 06:00:00|     JetBlue Airways|      40.639801|        -73.7789|28.429399490356445|-81.30899810791016|\n",
            "|  9|2013|    1|  1|   558.0|           600|     -2.0|   753.0|           745|      8.0|     AA|   301| N3ALAA|   LGA| ORD|   138.0|     733|   6|     0|2013-01-01 06:00:00|American Airlines...|      40.777199|      -73.872597|           41.9786|          -87.9048|\n",
            "| 10|2013|    1|  1|   558.0|           600|     -2.0|   849.0|           851|     -2.0|     B6|    49| N793JB|   JFK| PBI|   149.0|    1028|   6|     0|2013-01-01 06:00:00|     JetBlue Airways|      40.639801|        -73.7789| 26.68320083618164|-80.09559631347656|\n",
            "| 11|2013|    1|  1|   558.0|           600|     -2.0|   853.0|           856|     -3.0|     B6|    71| N657JB|   JFK| TPA|   158.0|    1005|   6|     0|2013-01-01 06:00:00|     JetBlue Airways|      40.639801|        -73.7789|27.975500106811523|     -82.533203125|\n",
            "| 12|2013|    1|  1|   558.0|           600|     -2.0|   924.0|           917|      7.0|     UA|   194| N29129|   JFK| LAX|   345.0|    2475|   6|     0|2013-01-01 06:00:00|United Air Lines ...|      40.639801|        -73.7789|         33.942501|       -118.407997|\n",
            "| 13|2013|    1|  1|   558.0|           600|     -2.0|   923.0|           937|    -14.0|     UA|  1124| N53441|   EWR| SFO|   361.0|    2565|   6|     0|2013-01-01 06:00:00|United Air Lines ...|      40.692501|      -74.168701| 37.61899948120117|          -122.375|\n",
            "| 14|2013|    1|  1|   559.0|           600|     -1.0|   941.0|           910|     31.0|     AA|   707| N3DUAA|   LGA| DFW|   257.0|    1389|   6|     0|2013-01-01 06:00:00|American Airlines...|      40.777199|      -73.872597|         32.896801|        -97.038002|\n",
            "| 15|2013|    1|  1|   559.0|           559|      0.0|   702.0|           706|     -4.0|     B6|  1806| N708JB|   JFK| BOS|    44.0|     187|   5|    59|2013-01-01 05:00:00|     JetBlue Airways|      40.639801|        -73.7789|           42.3643|        -71.005203|\n",
            "| 16|2013|    1|  1|   559.0|           600|     -1.0|   854.0|           902|     -8.0|     UA|  1187| N76515|   EWR| LAS|   337.0|    2227|   6|     0|2013-01-01 06:00:00|United Air Lines ...|      40.692501|      -74.168701|       36.08010101|      -115.1520004|\n",
            "| 17|2013|    1|  1|   600.0|           600|      0.0|   851.0|           858|     -7.0|     B6|   371| N595JB|   LGA| FLL|   152.0|    1076|   6|     0|2013-01-01 06:00:00|     JetBlue Airways|      40.777199|      -73.872597|         26.072599|        -80.152702|\n",
            "| 18|2013|    1|  1|   600.0|           600|      0.0|   837.0|           825|     12.0|     MQ|  4650| N542MQ|   LGA| ATL|   134.0|     762|   6|     0|2013-01-01 06:00:00|           Envoy Air|      40.777199|      -73.872597|           33.6367|        -84.428101|\n",
            "| 19|2013|    1|  1|   601.0|           600|      1.0|   844.0|           850|     -6.0|     B6|   343| N644JB|   EWR| PBI|   147.0|    1023|   6|     0|2013-01-01 06:00:00|     JetBlue Airways|      40.692501|      -74.168701| 26.68320083618164|-80.09559631347656|\n",
            "+---+----+-----+---+--------+--------------+---------+--------+--------------+---------+-------+------+-------+------+----+--------+--------+----+------+-------------------+--------------------+---------------+----------------+------------------+------------------+\n",
            "only showing top 20 rows\n",
            "\n"
          ]
        }
      ]
    },
    {
      "cell_type": "code",
      "source": [
        "df_with_coords_date = df_with_coords.withColumn(\"date\", to_date(col(\"time_hour\"), \"yyyy-MM-dd HH:mm:ss\"))\n",
        "df_with_coords_date = df_with_coords_date.withColumn(\"next_day\", date_add(\"date\", 1))\n",
        "\n",
        "limit_df = df_with_coords_date.sort(col(\"arr_delay\").desc()).limit(5)"
      ],
      "metadata": {
        "id": "sNH1k1v1hKZp"
      },
      "execution_count": 40,
      "outputs": []
    },
    {
      "cell_type": "code",
      "source": [
        "df_with_coords_date.write \\\n",
        "    .format(\"csv\") \\\n",
        "    .option(\"header\", \"true\") \\\n",
        "    .mode(\"overwrite\") \\\n",
        "    .save(\"/content/drive/MyDrive/picpay/df_with_date_coords.csv\")"
      ],
      "metadata": {
        "id": "qKxAhCpF5NK4"
      },
      "execution_count": 45,
      "outputs": []
    },
    {
      "cell_type": "code",
      "source": [
        "response_origin_df = limit_df.withColumn(\n",
        "    \"origin_wind_spd\",\n",
        "    fetch_weatherbit_api(\"origin_latitude\", \"origin_longitude\", \"date\", \"next_day\" )\n",
        ")\n",
        "\n",
        "response_df = response_origin_df.withColumn(\n",
        "    \"dest_wind_spd\",\n",
        "    fetch_weatherbit_api(\"dest_latitude\", \"dest_longitude\", \"date\", \"next_day\" )\n",
        ")"
      ],
      "metadata": {
        "id": "wbcirinGj582"
      },
      "execution_count": 41,
      "outputs": []
    },
    {
      "cell_type": "code",
      "source": [
        "response_df.show()"
      ],
      "metadata": {
        "colab": {
          "base_uri": "https://localhost:8080/"
        },
        "id": "8Vq8P8BBouo6",
        "outputId": "4c83f762-cb15-42d1-a970-259f38164304"
      },
      "execution_count": 42,
      "outputs": [
        {
          "output_type": "stream",
          "name": "stdout",
          "text": [
            "+-----+----+-----+---+--------+--------------+---------+--------+--------------+---------+-------+------+-------+------+----+--------+--------+----+------+-------------------+--------------------+---------------+----------------+-------------+--------------+----------+----------+---------------+-------------+\n",
            "|   id|year|month|day|dep_time|sched_dep_time|dep_delay|arr_time|sched_arr_time|arr_delay|carrier|flight|tailnum|origin|dest|air_time|distance|hour|minute|          time_hour|                name|origin_latitude|origin_longitude|dest_latitude|dest_longitude|      date|  next_day|origin_wind_spd|dest_wind_spd|\n",
            "+-----+----+-----+---+--------+--------------+---------+--------+--------------+---------+-------+------+-------+------+----+--------+--------+----+------+-------------------+--------------------+---------------+----------------+-------------+--------------+----------+----------+---------------+-------------+\n",
            "| 6651|2013|    1|  8|  1550.0|          1420|     90.0|  1759.0|          1620|     99.0|     MQ|  4588| N507MQ|   LGA| MSP|   157.0|    1020|  14|    20|2013-01-08 14:00:00|           Envoy Air|      40.777199|      -73.872597|       44.882|    -93.221802|2013-01-08|2013-01-09|           null|         null|\n",
            "|13925|2013|    1| 16|  2152.0|          2015|     97.0|  2349.0|          2210|     99.0|     MQ|  4555| N846MQ|   LGA| CMH|    94.0|     479|  20|    15|2013-01-16 20:00:00|           Envoy Air|      40.777199|      -73.872597|    39.998001|    -82.891899|2013-01-16|2013-01-17|           null|         null|\n",
            "|11082|2013|    1| 13|  1827.0|          1708|     79.0|  2202.0|          2023|     99.0|     B6|    15| N203JB|   JFK| FLL|   146.0|    1069|  17|     8|2013-01-13 17:00:00|     JetBlue Airways|      40.639801|        -73.7789|    26.072599|    -80.152702|2013-01-13|2013-01-14|           null|         null|\n",
            "| 1559|2013|    1|  2|  1804.0|          1639|     85.0|  2050.0|          1911|     99.0|     EV|  4705| N14558|   EWR| ATL|   137.0|     746|  16|    39|2013-01-02 16:00:00|ExpressJet Airlin...|      40.692501|      -74.168701|      33.6367|    -84.428101|2013-01-02|2013-01-03|           null|         null|\n",
            "|11176|2013|    1| 13|  2022.0|          1905|     77.0|  2202.0|          2023|     99.0|     EV|  5714| N827AS|   JFK| IAD|    44.0|     228|  19|     5|2013-01-13 19:00:00|ExpressJet Airlin...|      40.639801|        -73.7789|      38.9445|    -77.455803|2013-01-13|2013-01-14|           null|         null|\n",
            "+-----+----+-----+---+--------+--------------+---------+--------+--------------+---------+-------+------+-------+------+----+--------+--------+----+------+-------------------+--------------------+---------------+----------------+-------------+--------------+----------+----------+---------------+-------------+\n",
            "\n"
          ]
        }
      ]
    },
    {
      "cell_type": "code",
      "source": [
        "weatherbit_key = \"eb4a4aab29b34faaafed11834d3620f3\"\n",
        "latitude = 40.7128\n",
        "longitude = -74.0060\n",
        "start_date = '2023-01-01'\n",
        "end_date = '2023-01-02' # Sempre adicione +1 dia em relação ao start_date\n",
        "url = 'https://api.weatherbit.io/v2.0/history/daily'\n",
        "\n",
        "params = {\n",
        "  'lat': latitude,\n",
        "  'lon': longitude,\n",
        "  'start_date': start_date,\n",
        "  'end_date': end_date,\n",
        "  'key': weatherbit_key,\n",
        "}\n",
        "headers = {\n",
        "  'Accept': 'application/json',\n",
        "}\n",
        "\n",
        "response = requests.get(url, params=params, headers=headers)\n",
        "data = response.json()"
      ],
      "metadata": {
        "id": "GYLYvSCbuLBh"
      },
      "execution_count": 491,
      "outputs": []
    },
    {
      "cell_type": "code",
      "source": [
        "data"
      ],
      "metadata": {
        "colab": {
          "base_uri": "https://localhost:8080/"
        },
        "id": "5XrBYU2luSrG",
        "outputId": "7952d726-1357-4417-9ec1-c0f275188ad7"
      },
      "execution_count": 492,
      "outputs": [
        {
          "output_type": "execute_result",
          "data": {
            "text/plain": [
              "{'error': 'Your API key does not allow access to this endpoint. See https://www.weatherbit.io/pricing.'}"
            ]
          },
          "metadata": {},
          "execution_count": 492
        }
      ]
    }
  ]
}